{
  "cells": [
    {
      "cell_type": "markdown",
      "metadata": {
        "id": "0oLNzWFWFGN9"
      },
      "source": [
        "# <div align = \"center\">COSC 2673/2793 | Machine Learning</div>\n",
        "<div align = \"center\"><font size=\"5\">Assignment 2</font></div>\n",
        "<div align = \"center\"><font size='4'>by David Aziz (s3825605) and Alistair Chitty (s3902003)</font></div>\n",
        "\n",
        "# Loading Dataset & Exploratory Data Analysis"
      ]
    },
    {
      "cell_type": "code",
      "source": [
        "from google.colab import drive\n",
        "drive.mount('/content/drive')"
      ],
      "metadata": {
        "colab": {
          "base_uri": "https://localhost:8080/"
        },
        "id": "uqYkS25rFR5_",
        "outputId": "abfd949a-638f-41b2-b35b-d1a079ab8c5d"
      },
      "execution_count": 1,
      "outputs": [
        {
          "output_type": "stream",
          "name": "stdout",
          "text": [
            "Mounted at /content/drive\n"
          ]
        }
      ]
    },
    {
      "cell_type": "code",
      "source": [
        "!ls"
      ],
      "metadata": {
        "colab": {
          "base_uri": "https://localhost:8080/"
        },
        "id": "JmmCF3T5F-0d",
        "outputId": "685d764a-73ff-4f88-ba5d-ba8ed137a71f"
      },
      "execution_count": 2,
      "outputs": [
        {
          "output_type": "stream",
          "name": "stdout",
          "text": [
            "drive  sample_data\n"
          ]
        }
      ]
    },
    {
      "cell_type": "code",
      "source": [
        "!cp -r /content/drive/MyDrive/'ML Assignment 2' /content\n",
        "%cd /content/'ML Assignment 2'\n",
        "!ls"
      ],
      "metadata": {
        "colab": {
          "base_uri": "https://localhost:8080/"
        },
        "id": "xYIDFxb04JNV",
        "outputId": "976a70b5-aeca-46c7-db6d-9168066db961"
      },
      "execution_count": 3,
      "outputs": [
        {
          "output_type": "stream",
          "name": "stdout",
          "text": [
            "/content/ML Assignment 2\n",
            " annotated_imgs.csv\t\t        preprocessedTestData\n",
            " archive.zip\t\t\t        Test\n",
            "'Creating Independent Test Set.ipynb'   Test.csv\n",
            "'Machine Learning Assignment 2.ipynb'   trafficsigns_dataset.zip\n",
            " preprocessed_annotated_imgs.csv\n"
          ]
        }
      ]
    },
    {
      "cell_type": "code",
      "execution_count": 5,
      "metadata": {
        "id": "jgNoHoEQFGOB"
      },
      "outputs": [],
      "source": [
        "import zipfile\n",
        "import random\n",
        "import os\n",
        "import pandas as pd\n",
        "import numpy as np\n",
        "import matplotlib.pyplot as plt\n",
        "%matplotlib inline\n",
        "from PIL import Image"
      ]
    },
    {
      "cell_type": "code",
      "execution_count": 4,
      "metadata": {
        "id": "dzNlRKs6FGOC"
      },
      "outputs": [],
      "source": [
        "# Unzipping Traffic Sign Dataset\n",
        "#filename = \"trafficsigns_dataset.zip\"\n",
        "#with zipfile.ZipFile(filename, 'r') as zip_ref:\n",
        "#    zip_ref.extractall()\n",
        "\n",
        "!unzip -q -o /content/'ML Assignment 2'/trafficsigns_dataset.zip"
      ]
    },
    {
      "cell_type": "code",
      "execution_count": 6,
      "metadata": {
        "id": "tRc978DuFGOD"
      },
      "outputs": [],
      "source": [
        "# initializing dicts to store sign-shapes and sign-types\n",
        "data_dict = {}\n",
        "data_dict[\"sign_shapes\"] = list()\n",
        "data_dict[\"sign_types\"] = list()\n",
        "data_dict[\"filename\"] = list()\n",
        "\n",
        "# iterate through trafficsigns_dataset folder:\n",
        "for sign_shape in os.listdir(\"trafficsigns_dataset/\"):\n",
        "    folder = os.path.join(\"trafficsigns_dataset/\", sign_shape)\n",
        "    \n",
        "    # iterate only through sign-shape folders\n",
        "    if os.path.isdir(folder):\n",
        "        for sign_type in os.listdir(folder):\n",
        "            subfolder = os.path.join(folder, sign_type)\n",
        "            \n",
        "            # iterate only through sign-type subfolders\n",
        "            if os.path.isdir(subfolder):\n",
        "                for image in os.listdir(subfolder):  \n",
        "                    if image.endswith(\".png\"):\n",
        "                        data_dict[\"sign_shapes\"].append(sign_shape)\n",
        "                        data_dict[\"sign_types\"].append(sign_type)\n",
        "                        filename = f\"trafficsigns_dataset/{sign_shape}/{sign_type}/{image}\"\n",
        "                        data_dict[\"filename\"].append(filename)"
      ]
    },
    {
      "cell_type": "code",
      "execution_count": 7,
      "metadata": {
        "id": "XKWJpj_OFGOD"
      },
      "outputs": [],
      "source": [
        "signs = pd.DataFrame.from_dict(data_dict)"
      ]
    },
    {
      "cell_type": "code",
      "execution_count": 8,
      "metadata": {
        "colab": {
          "base_uri": "https://localhost:8080/"
        },
        "id": "zDYd0nLUFGOE",
        "outputId": "92d327cf-8edc-4111-da84-953a8364d0bd"
      },
      "outputs": [
        {
          "output_type": "stream",
          "name": "stdout",
          "text": [
            "<class 'pandas.core.frame.DataFrame'>\n",
            "RangeIndex: 3699 entries, 0 to 3698\n",
            "Data columns (total 3 columns):\n",
            " #   Column       Non-Null Count  Dtype \n",
            "---  ------       --------------  ----- \n",
            " 0   sign_shapes  3699 non-null   object\n",
            " 1   sign_types   3699 non-null   object\n",
            " 2   filename     3699 non-null   object\n",
            "dtypes: object(3)\n",
            "memory usage: 86.8+ KB\n"
          ]
        }
      ],
      "source": [
        "signs.info() # getting info on the signs dataframe"
      ]
    },
    {
      "cell_type": "code",
      "execution_count": 9,
      "metadata": {
        "colab": {
          "base_uri": "https://localhost:8080/",
          "height": 206
        },
        "id": "kHm4VoNOFGOF",
        "outputId": "e87ba864-3d95-464b-a602-eecfa0e59b80"
      },
      "outputs": [
        {
          "output_type": "execute_result",
          "data": {
            "text/plain": [
              "  sign_shapes sign_types                                       filename\n",
              "0         hex       stop  trafficsigns_dataset/hex/stop/01920_00001.png\n",
              "1         hex       stop  trafficsigns_dataset/hex/stop/00715_00001.png\n",
              "2         hex       stop  trafficsigns_dataset/hex/stop/01951_00001.png\n",
              "3         hex       stop  trafficsigns_dataset/hex/stop/00554_00001.png\n",
              "4         hex       stop  trafficsigns_dataset/hex/stop/00685_00002.png"
            ],
            "text/html": [
              "\n",
              "  <div id=\"df-4710793f-3e2f-4fa7-a736-107255d2bfd0\">\n",
              "    <div class=\"colab-df-container\">\n",
              "      <div>\n",
              "<style scoped>\n",
              "    .dataframe tbody tr th:only-of-type {\n",
              "        vertical-align: middle;\n",
              "    }\n",
              "\n",
              "    .dataframe tbody tr th {\n",
              "        vertical-align: top;\n",
              "    }\n",
              "\n",
              "    .dataframe thead th {\n",
              "        text-align: right;\n",
              "    }\n",
              "</style>\n",
              "<table border=\"1\" class=\"dataframe\">\n",
              "  <thead>\n",
              "    <tr style=\"text-align: right;\">\n",
              "      <th></th>\n",
              "      <th>sign_shapes</th>\n",
              "      <th>sign_types</th>\n",
              "      <th>filename</th>\n",
              "    </tr>\n",
              "  </thead>\n",
              "  <tbody>\n",
              "    <tr>\n",
              "      <th>0</th>\n",
              "      <td>hex</td>\n",
              "      <td>stop</td>\n",
              "      <td>trafficsigns_dataset/hex/stop/01920_00001.png</td>\n",
              "    </tr>\n",
              "    <tr>\n",
              "      <th>1</th>\n",
              "      <td>hex</td>\n",
              "      <td>stop</td>\n",
              "      <td>trafficsigns_dataset/hex/stop/00715_00001.png</td>\n",
              "    </tr>\n",
              "    <tr>\n",
              "      <th>2</th>\n",
              "      <td>hex</td>\n",
              "      <td>stop</td>\n",
              "      <td>trafficsigns_dataset/hex/stop/01951_00001.png</td>\n",
              "    </tr>\n",
              "    <tr>\n",
              "      <th>3</th>\n",
              "      <td>hex</td>\n",
              "      <td>stop</td>\n",
              "      <td>trafficsigns_dataset/hex/stop/00554_00001.png</td>\n",
              "    </tr>\n",
              "    <tr>\n",
              "      <th>4</th>\n",
              "      <td>hex</td>\n",
              "      <td>stop</td>\n",
              "      <td>trafficsigns_dataset/hex/stop/00685_00002.png</td>\n",
              "    </tr>\n",
              "  </tbody>\n",
              "</table>\n",
              "</div>\n",
              "      <button class=\"colab-df-convert\" onclick=\"convertToInteractive('df-4710793f-3e2f-4fa7-a736-107255d2bfd0')\"\n",
              "              title=\"Convert this dataframe to an interactive table.\"\n",
              "              style=\"display:none;\">\n",
              "        \n",
              "  <svg xmlns=\"http://www.w3.org/2000/svg\" height=\"24px\"viewBox=\"0 0 24 24\"\n",
              "       width=\"24px\">\n",
              "    <path d=\"M0 0h24v24H0V0z\" fill=\"none\"/>\n",
              "    <path d=\"M18.56 5.44l.94 2.06.94-2.06 2.06-.94-2.06-.94-.94-2.06-.94 2.06-2.06.94zm-11 1L8.5 8.5l.94-2.06 2.06-.94-2.06-.94L8.5 2.5l-.94 2.06-2.06.94zm10 10l.94 2.06.94-2.06 2.06-.94-2.06-.94-.94-2.06-.94 2.06-2.06.94z\"/><path d=\"M17.41 7.96l-1.37-1.37c-.4-.4-.92-.59-1.43-.59-.52 0-1.04.2-1.43.59L10.3 9.45l-7.72 7.72c-.78.78-.78 2.05 0 2.83L4 21.41c.39.39.9.59 1.41.59.51 0 1.02-.2 1.41-.59l7.78-7.78 2.81-2.81c.8-.78.8-2.07 0-2.86zM5.41 20L4 18.59l7.72-7.72 1.47 1.35L5.41 20z\"/>\n",
              "  </svg>\n",
              "      </button>\n",
              "      \n",
              "  <style>\n",
              "    .colab-df-container {\n",
              "      display:flex;\n",
              "      flex-wrap:wrap;\n",
              "      gap: 12px;\n",
              "    }\n",
              "\n",
              "    .colab-df-convert {\n",
              "      background-color: #E8F0FE;\n",
              "      border: none;\n",
              "      border-radius: 50%;\n",
              "      cursor: pointer;\n",
              "      display: none;\n",
              "      fill: #1967D2;\n",
              "      height: 32px;\n",
              "      padding: 0 0 0 0;\n",
              "      width: 32px;\n",
              "    }\n",
              "\n",
              "    .colab-df-convert:hover {\n",
              "      background-color: #E2EBFA;\n",
              "      box-shadow: 0px 1px 2px rgba(60, 64, 67, 0.3), 0px 1px 3px 1px rgba(60, 64, 67, 0.15);\n",
              "      fill: #174EA6;\n",
              "    }\n",
              "\n",
              "    [theme=dark] .colab-df-convert {\n",
              "      background-color: #3B4455;\n",
              "      fill: #D2E3FC;\n",
              "    }\n",
              "\n",
              "    [theme=dark] .colab-df-convert:hover {\n",
              "      background-color: #434B5C;\n",
              "      box-shadow: 0px 1px 3px 1px rgba(0, 0, 0, 0.15);\n",
              "      filter: drop-shadow(0px 1px 2px rgba(0, 0, 0, 0.3));\n",
              "      fill: #FFFFFF;\n",
              "    }\n",
              "  </style>\n",
              "\n",
              "      <script>\n",
              "        const buttonEl =\n",
              "          document.querySelector('#df-4710793f-3e2f-4fa7-a736-107255d2bfd0 button.colab-df-convert');\n",
              "        buttonEl.style.display =\n",
              "          google.colab.kernel.accessAllowed ? 'block' : 'none';\n",
              "\n",
              "        async function convertToInteractive(key) {\n",
              "          const element = document.querySelector('#df-4710793f-3e2f-4fa7-a736-107255d2bfd0');\n",
              "          const dataTable =\n",
              "            await google.colab.kernel.invokeFunction('convertToInteractive',\n",
              "                                                     [key], {});\n",
              "          if (!dataTable) return;\n",
              "\n",
              "          const docLinkHtml = 'Like what you see? Visit the ' +\n",
              "            '<a target=\"_blank\" href=https://colab.research.google.com/notebooks/data_table.ipynb>data table notebook</a>'\n",
              "            + ' to learn more about interactive tables.';\n",
              "          element.innerHTML = '';\n",
              "          dataTable['output_type'] = 'display_data';\n",
              "          await google.colab.output.renderOutput(dataTable, element);\n",
              "          const docLink = document.createElement('div');\n",
              "          docLink.innerHTML = docLinkHtml;\n",
              "          element.appendChild(docLink);\n",
              "        }\n",
              "      </script>\n",
              "    </div>\n",
              "  </div>\n",
              "  "
            ]
          },
          "metadata": {},
          "execution_count": 9
        }
      ],
      "source": [
        "signs.head(5)"
      ]
    },
    {
      "cell_type": "markdown",
      "metadata": {
        "id": "a9CFjF_gFGOG"
      },
      "source": [
        "In the below cells, we create histograms to visualize the frequency of the classes. We observe that there is a class imbalance, and we will need to account for this when we set up the evaluation framework for our developed models."
      ]
    },
    {
      "cell_type": "code",
      "execution_count": 10,
      "metadata": {
        "scrolled": true,
        "colab": {
          "base_uri": "https://localhost:8080/",
          "height": 325
        },
        "id": "1gYS7vDmFGOG",
        "outputId": "52215ce8-3cd8-46b7-cdf3-8052e31f7da0"
      },
      "outputs": [
        {
          "output_type": "display_data",
          "data": {
            "text/plain": [
              "<Figure size 1440x1296 with 2 Axes>"
            ],
            "image/png": "[encoded data removed]"
          },
          "metadata": {
            "needs_background": "light"
          }
        }
      ],
      "source": [
        "# checking distribution of classes for sign-shapes and sign-types\n",
        "plt.figure(figsize = (20,18))\n",
        "\n",
        "for i,col in enumerate(signs.iloc[:,0:2].columns):\n",
        "    plt.subplot(4,3,i+1)\n",
        "    signs[col].value_counts().plot(kind='bar')\n",
        "    plt.title(col)\n",
        "    plt.xticks(rotation = 45)"
      ]
    },
    {
      "cell_type": "markdown",
      "metadata": {
        "id": "LpS4TE6UFGOI"
      },
      "source": [
        "In the below cells, we load in the images from the dataset folder as 1D NumPy arrays. All images are the same size (28x28), so we expect each image array to have 784 features. The images are grayscale, so we only expect 1 channel as well, with the values ranging from 0 to 255."
      ]
    },
    {
      "cell_type": "code",
      "execution_count": 11,
      "metadata": {
        "id": "xy4SV4IYFGOJ"
      },
      "outputs": [],
      "source": [
        "images = [] # initialize list to store image arrays\n",
        "\n",
        "for index, row in signs.iterrows():\n",
        "    filename = row[2]\n",
        "    img_path = os.path.join(filename)\n",
        "    img = np.asarray(Image.open(img_path)).flatten()\n",
        "    images.append(img)\n",
        "    \n",
        "images = np.row_stack(images) # convert list of arrays into 2d array"
      ]
    },
    {
      "cell_type": "code",
      "execution_count": 12,
      "metadata": {
        "id": "w7XRLfmqFGOJ",
        "colab": {
          "base_uri": "https://localhost:8080/"
        },
        "outputId": "2910898c-c6b4-48fa-c2b1-5074954e6185"
      },
      "outputs": [
        {
          "output_type": "stream",
          "name": "stdout",
          "text": [
            "This dataset has 3699 images, and 784 features\n"
          ]
        }
      ],
      "source": [
        "print(f\"This dataset has {images.shape[0]} images, and {images.shape[1]} features\")"
      ]
    },
    {
      "cell_type": "markdown",
      "metadata": {
        "id": "aCfA-NwbFGOK"
      },
      "source": [
        "The next step in EDA is to randomly sample a few images to visualize the information that we'll later feed into our classifers. To do this, we had to reshape the flattened image arrays into their original dimensions."
      ]
    },
    {
      "cell_type": "code",
      "execution_count": 13,
      "metadata": {
        "id": "AHkQWrOhFGOK",
        "colab": {
          "base_uri": "https://localhost:8080/",
          "height": 603
        },
        "outputId": "9abb2eab-1011-4c26-bdf6-47055b2a55cc"
      },
      "outputs": [
        {
          "output_type": "display_data",
          "data": {
            "text/plain": [
              "<Figure size 1440x720 with 8 Axes>"
            ],
            "image/png": "[encoded data removed]"
          },
          "metadata": {
            "needs_background": "light"
          }
        }
      ],
      "source": [
        "random.seed(0) # using seed to ensure reproducibility of image sample\n",
        "plt.figure(figsize = (20,10))\n",
        "\n",
        "num_imgs = 8 # setting size of sample\n",
        "indices = random.sample(range(images.shape[1]),num_imgs)\n",
        "\n",
        "for i,j in enumerate(indices):\n",
        "    plt.subplot(2,4,i+1)\n",
        "    plt.title(f\"Sign-Shape: {signs.iloc[j,0]}, Sign-Type: {signs.iloc[j,1]}\")\n",
        "    plt.imshow(images[j].reshape(28,28), cmap = \"gray\")"
      ]
    },
    {
      "cell_type": "code",
      "execution_count": 14,
      "metadata": {
        "colab": {
          "base_uri": "https://localhost:8080/",
          "height": 394
        },
        "id": "Qb5mNBctFGOK",
        "outputId": "d27b2e7e-2b65-4e04-fecf-6b68a72d7241"
      },
      "outputs": [
        {
          "output_type": "execute_result",
          "data": {
            "text/plain": [
              "               0            1            2            3            4    \\\n",
              "count  3699.000000  3699.000000  3699.000000  3699.000000  3699.000000   \n",
              "mean     92.232225    92.712625    93.833469    93.676129    93.942687   \n",
              "std      70.752777    71.652804    71.596326    71.431897    71.399424   \n",
              "min       0.000000     0.000000     0.000000     0.000000     0.000000   \n",
              "25%      40.000000    40.000000    41.000000    41.000000    41.000000   \n",
              "50%      71.000000    70.000000    72.000000    72.000000    73.000000   \n",
              "75%     127.000000   126.000000   127.000000   128.000000   128.000000   \n",
              "max     255.000000   255.000000   255.000000   255.000000   255.000000   \n",
              "\n",
              "               5            6            7            8            9    ...  \\\n",
              "count  3699.000000  3699.000000  3699.000000  3699.000000  3699.000000  ...   \n",
              "mean     94.065693    94.178967    94.504190    94.513923    94.978102  ...   \n",
              "std      71.235415    71.978231    72.163763    71.872867    71.936054  ...   \n",
              "min       0.000000     0.000000     0.000000     0.000000     0.000000  ...   \n",
              "25%      41.000000    41.000000    41.000000    40.000000    41.500000  ...   \n",
              "50%      73.000000    71.000000    71.000000    72.000000    72.000000  ...   \n",
              "75%     127.000000   128.500000   129.000000   130.000000   130.000000  ...   \n",
              "max     255.000000   255.000000   255.000000   255.000000   255.000000  ...   \n",
              "\n",
              "               774          775          776          777          778  \\\n",
              "count  3699.000000  3699.000000  3699.000000  3699.000000  3699.000000   \n",
              "mean     97.172209    97.173831    96.362530    95.297918    94.896999   \n",
              "std      65.988030    66.955995    66.833096    67.025648    66.724743   \n",
              "min       6.000000     7.000000     1.000000     3.000000     4.000000   \n",
              "25%      47.000000    46.000000    45.000000    44.000000    44.000000   \n",
              "50%      77.000000    76.000000    75.000000    73.000000    73.000000   \n",
              "75%     132.000000   132.000000   130.000000   128.000000   128.000000   \n",
              "max     255.000000   255.000000   255.000000   255.000000   255.000000   \n",
              "\n",
              "               779          780          781          782          783  \n",
              "count  3699.000000  3699.000000  3699.000000  3699.000000  3699.000000  \n",
              "mean     94.149500    92.766153    90.021898    87.145174    86.069478  \n",
              "std      66.934988    66.159849    65.192246    64.797119    64.946209  \n",
              "min       4.000000     6.000000     0.000000     0.000000     0.000000  \n",
              "25%      43.000000    44.000000    42.000000    40.000000    39.000000  \n",
              "50%      72.000000    71.000000    69.000000    69.000000    67.000000  \n",
              "75%     127.000000   123.000000   119.000000   113.000000   113.000000  \n",
              "max     255.000000   255.000000   255.000000   255.000000   255.000000  \n",
              "\n",
              "[8 rows x 784 columns]"
            ],
            "text/html": [
              "\n",
              "  <div id=\"df-0e1f7354-096b-4bb9-846f-b13755253983\">\n",
              "    <div class=\"colab-df-container\">\n",
              "      <div>\n",
              "<style scoped>\n",
              "    .dataframe tbody tr th:only-of-type {\n",
              "        vertical-align: middle;\n",
              "    }\n",
              "\n",
              "    .dataframe tbody tr th {\n",
              "        vertical-align: top;\n",
              "    }\n",
              "\n",
              "    .dataframe thead th {\n",
              "        text-align: right;\n",
              "    }\n",
              "</style>\n",
              "<table border=\"1\" class=\"dataframe\">\n",
              "  <thead>\n",
              "    <tr style=\"text-align: right;\">\n",
              "      <th></th>\n",
              "      <th>0</th>\n",
              "      <th>1</th>\n",
              "      <th>2</th>\n",
              "      <th>3</th>\n",
              "      <th>4</th>\n",
              "      <th>5</th>\n",
              "      <th>6</th>\n",
              "      <th>7</th>\n",
              "      <th>8</th>\n",
              "      <th>9</th>\n",
              "      <th>...</th>\n",
              "      <th>774</th>\n",
              "      <th>775</th>\n",
              "      <th>776</th>\n",
              "      <th>777</th>\n",
              "      <th>778</th>\n",
              "      <th>779</th>\n",
              "      <th>780</th>\n",
              "      <th>781</th>\n",
              "      <th>782</th>\n",
              "      <th>783</th>\n",
              "    </tr>\n",
              "  </thead>\n",
              "  <tbody>\n",
              "    <tr>\n",
              "      <th>count</th>\n",
              "      <td>3699.000000</td>\n",
              "      <td>3699.000000</td>\n",
              "      <td>3699.000000</td>\n",
              "      <td>3699.000000</td>\n",
              "      <td>3699.000000</td>\n",
              "      <td>3699.000000</td>\n",
              "      <td>3699.000000</td>\n",
              "      <td>3699.000000</td>\n",
              "      <td>3699.000000</td>\n",
              "      <td>3699.000000</td>\n",
              "      <td>...</td>\n",
              "      <td>3699.000000</td>\n",
              "      <td>3699.000000</td>\n",
              "      <td>3699.000000</td>\n",
              "      <td>3699.000000</td>\n",
              "      <td>3699.000000</td>\n",
              "      <td>3699.000000</td>\n",
              "      <td>3699.000000</td>\n",
              "      <td>3699.000000</td>\n",
              "      <td>3699.000000</td>\n",
              "      <td>3699.000000</td>\n",
              "    </tr>\n",
              "    <tr>\n",
              "      <th>mean</th>\n",
              "      <td>92.232225</td>\n",
              "      <td>92.712625</td>\n",
              "      <td>93.833469</td>\n",
              "      <td>93.676129</td>\n",
              "      <td>93.942687</td>\n",
              "      <td>94.065693</td>\n",
              "      <td>94.178967</td>\n",
              "      <td>94.504190</td>\n",
              "      <td>94.513923</td>\n",
              "      <td>94.978102</td>\n",
              "      <td>...</td>\n",
              "      <td>97.172209</td>\n",
              "      <td>97.173831</td>\n",
              "      <td>96.362530</td>\n",
              "      <td>95.297918</td>\n",
              "      <td>94.896999</td>\n",
              "      <td>94.149500</td>\n",
              "      <td>92.766153</td>\n",
              "      <td>90.021898</td>\n",
              "      <td>87.145174</td>\n",
              "      <td>86.069478</td>\n",
              "    </tr>\n",
              "    <tr>\n",
              "      <th>std</th>\n",
              "      <td>70.752777</td>\n",
              "      <td>71.652804</td>\n",
              "      <td>71.596326</td>\n",
              "      <td>71.431897</td>\n",
              "      <td>71.399424</td>\n",
              "      <td>71.235415</td>\n",
              "      <td>71.978231</td>\n",
              "      <td>72.163763</td>\n",
              "      <td>71.872867</td>\n",
              "      <td>71.936054</td>\n",
              "      <td>...</td>\n",
              "      <td>65.988030</td>\n",
              "      <td>66.955995</td>\n",
              "      <td>66.833096</td>\n",
              "      <td>67.025648</td>\n",
              "      <td>66.724743</td>\n",
              "      <td>66.934988</td>\n",
              "      <td>66.159849</td>\n",
              "      <td>65.192246</td>\n",
              "      <td>64.797119</td>\n",
              "      <td>64.946209</td>\n",
              "    </tr>\n",
              "    <tr>\n",
              "      <th>min</th>\n",
              "      <td>0.000000</td>\n",
              "      <td>0.000000</td>\n",
              "      <td>0.000000</td>\n",
              "      <td>0.000000</td>\n",
              "      <td>0.000000</td>\n",
              "      <td>0.000000</td>\n",
              "      <td>0.000000</td>\n",
              "      <td>0.000000</td>\n",
              "      <td>0.000000</td>\n",
              "      <td>0.000000</td>\n",
              "      <td>...</td>\n",
              "      <td>6.000000</td>\n",
              "      <td>7.000000</td>\n",
              "      <td>1.000000</td>\n",
              "      <td>3.000000</td>\n",
              "      <td>4.000000</td>\n",
              "      <td>4.000000</td>\n",
              "      <td>6.000000</td>\n",
              "      <td>0.000000</td>\n",
              "      <td>0.000000</td>\n",
              "      <td>0.000000</td>\n",
              "    </tr>\n",
              "    <tr>\n",
              "      <th>25%</th>\n",
              "      <td>40.000000</td>\n",
              "      <td>40.000000</td>\n",
              "      <td>41.000000</td>\n",
              "      <td>41.000000</td>\n",
              "      <td>41.000000</td>\n",
              "      <td>41.000000</td>\n",
              "      <td>41.000000</td>\n",
              "      <td>41.000000</td>\n",
              "      <td>40.000000</td>\n",
              "      <td>41.500000</td>\n",
              "      <td>...</td>\n",
              "      <td>47.000000</td>\n",
              "      <td>46.000000</td>\n",
              "      <td>45.000000</td>\n",
              "      <td>44.000000</td>\n",
              "      <td>44.000000</td>\n",
              "      <td>43.000000</td>\n",
              "      <td>44.000000</td>\n",
              "      <td>42.000000</td>\n",
              "      <td>40.000000</td>\n",
              "      <td>39.000000</td>\n",
              "    </tr>\n",
              "    <tr>\n",
              "      <th>50%</th>\n",
              "      <td>71.000000</td>\n",
              "      <td>70.000000</td>\n",
              "      <td>72.000000</td>\n",
              "      <td>72.000000</td>\n",
              "      <td>73.000000</td>\n",
              "      <td>73.000000</td>\n",
              "      <td>71.000000</td>\n",
              "      <td>71.000000</td>\n",
              "      <td>72.000000</td>\n",
              "      <td>72.000000</td>\n",
              "      <td>...</td>\n",
              "      <td>77.000000</td>\n",
              "      <td>76.000000</td>\n",
              "      <td>75.000000</td>\n",
              "      <td>73.000000</td>\n",
              "      <td>73.000000</td>\n",
              "      <td>72.000000</td>\n",
              "      <td>71.000000</td>\n",
              "      <td>69.000000</td>\n",
              "      <td>69.000000</td>\n",
              "      <td>67.000000</td>\n",
              "    </tr>\n",
              "    <tr>\n",
              "      <th>75%</th>\n",
              "      <td>127.000000</td>\n",
              "      <td>126.000000</td>\n",
              "      <td>127.000000</td>\n",
              "      <td>128.000000</td>\n",
              "      <td>128.000000</td>\n",
              "      <td>127.000000</td>\n",
              "      <td>128.500000</td>\n",
              "      <td>129.000000</td>\n",
              "      <td>130.000000</td>\n",
              "      <td>130.000000</td>\n",
              "      <td>...</td>\n",
              "      <td>132.000000</td>\n",
              "      <td>132.000000</td>\n",
              "      <td>130.000000</td>\n",
              "      <td>128.000000</td>\n",
              "      <td>128.000000</td>\n",
              "      <td>127.000000</td>\n",
              "      <td>123.000000</td>\n",
              "      <td>119.000000</td>\n",
              "      <td>113.000000</td>\n",
              "      <td>113.000000</td>\n",
              "    </tr>\n",
              "    <tr>\n",
              "      <th>max</th>\n",
              "      <td>255.000000</td>\n",
              "      <td>255.000000</td>\n",
              "      <td>255.000000</td>\n",
              "      <td>255.000000</td>\n",
              "      <td>255.000000</td>\n",
              "      <td>255.000000</td>\n",
              "      <td>255.000000</td>\n",
              "      <td>255.000000</td>\n",
              "      <td>255.000000</td>\n",
              "      <td>255.000000</td>\n",
              "      <td>...</td>\n",
              "      <td>255.000000</td>\n",
              "      <td>255.000000</td>\n",
              "      <td>255.000000</td>\n",
              "      <td>255.000000</td>\n",
              "      <td>255.000000</td>\n",
              "      <td>255.000000</td>\n",
              "      <td>255.000000</td>\n",
              "      <td>255.000000</td>\n",
              "      <td>255.000000</td>\n",
              "      <td>255.000000</td>\n",
              "    </tr>\n",
              "  </tbody>\n",
              "</table>\n",
              "<p>8 rows × 784 columns</p>\n",
              "</div>\n",
              "      <button class=\"colab-df-convert\" onclick=\"convertToInteractive('df-0e1f7354-096b-4bb9-846f-b13755253983')\"\n",
              "              title=\"Convert this dataframe to an interactive table.\"\n",
              "              style=\"display:none;\">\n",
              "        \n",
              "  <svg xmlns=\"http://www.w3.org/2000/svg\" height=\"24px\"viewBox=\"0 0 24 24\"\n",
              "       width=\"24px\">\n",
              "    <path d=\"M0 0h24v24H0V0z\" fill=\"none\"/>\n",
              "    <path d=\"M18.56 5.44l.94 2.06.94-2.06 2.06-.94-2.06-.94-.94-2.06-.94 2.06-2.06.94zm-11 1L8.5 8.5l.94-2.06 2.06-.94-2.06-.94L8.5 2.5l-.94 2.06-2.06.94zm10 10l.94 2.06.94-2.06 2.06-.94-2.06-.94-.94-2.06-.94 2.06-2.06.94z\"/><path d=\"M17.41 7.96l-1.37-1.37c-.4-.4-.92-.59-1.43-.59-.52 0-1.04.2-1.43.59L10.3 9.45l-7.72 7.72c-.78.78-.78 2.05 0 2.83L4 21.41c.39.39.9.59 1.41.59.51 0 1.02-.2 1.41-.59l7.78-7.78 2.81-2.81c.8-.78.8-2.07 0-2.86zM5.41 20L4 18.59l7.72-7.72 1.47 1.35L5.41 20z\"/>\n",
              "  </svg>\n",
              "      </button>\n",
              "      \n",
              "  <style>\n",
              "    .colab-df-container {\n",
              "      display:flex;\n",
              "      flex-wrap:wrap;\n",
              "      gap: 12px;\n",
              "    }\n",
              "\n",
              "    .colab-df-convert {\n",
              "      background-color: #E8F0FE;\n",
              "      border: none;\n",
              "      border-radius: 50%;\n",
              "      cursor: pointer;\n",
              "      display: none;\n",
              "      fill: #1967D2;\n",
              "      height: 32px;\n",
              "      padding: 0 0 0 0;\n",
              "      width: 32px;\n",
              "    }\n",
              "\n",
              "    .colab-df-convert:hover {\n",
              "      background-color: #E2EBFA;\n",
              "      box-shadow: 0px 1px 2px rgba(60, 64, 67, 0.3), 0px 1px 3px 1px rgba(60, 64, 67, 0.15);\n",
              "      fill: #174EA6;\n",
              "    }\n",
              "\n",
              "    [theme=dark] .colab-df-convert {\n",
              "      background-color: #3B4455;\n",
              "      fill: #D2E3FC;\n",
              "    }\n",
              "\n",
              "    [theme=dark] .colab-df-convert:hover {\n",
              "      background-color: #434B5C;\n",
              "      box-shadow: 0px 1px 3px 1px rgba(0, 0, 0, 0.15);\n",
              "      filter: drop-shadow(0px 1px 2px rgba(0, 0, 0, 0.3));\n",
              "      fill: #FFFFFF;\n",
              "    }\n",
              "  </style>\n",
              "\n",
              "      <script>\n",
              "        const buttonEl =\n",
              "          document.querySelector('#df-0e1f7354-096b-4bb9-846f-b13755253983 button.colab-df-convert');\n",
              "        buttonEl.style.display =\n",
              "          google.colab.kernel.accessAllowed ? 'block' : 'none';\n",
              "\n",
              "        async function convertToInteractive(key) {\n",
              "          const element = document.querySelector('#df-0e1f7354-096b-4bb9-846f-b13755253983');\n",
              "          const dataTable =\n",
              "            await google.colab.kernel.invokeFunction('convertToInteractive',\n",
              "                                                     [key], {});\n",
              "          if (!dataTable) return;\n",
              "\n",
              "          const docLinkHtml = 'Like what you see? Visit the ' +\n",
              "            '<a target=\"_blank\" href=https://colab.research.google.com/notebooks/data_table.ipynb>data table notebook</a>'\n",
              "            + ' to learn more about interactive tables.';\n",
              "          element.innerHTML = '';\n",
              "          dataTable['output_type'] = 'display_data';\n",
              "          await google.colab.output.renderOutput(dataTable, element);\n",
              "          const docLink = document.createElement('div');\n",
              "          docLink.innerHTML = docLinkHtml;\n",
              "          element.appendChild(docLink);\n",
              "        }\n",
              "      </script>\n",
              "    </div>\n",
              "  </div>\n",
              "  "
            ]
          },
          "metadata": {},
          "execution_count": 14
        }
      ],
      "source": [
        "pd.DataFrame(images).describe()"
      ]
    },
    {
      "cell_type": "markdown",
      "metadata": {
        "id": "eUjqUb9tFGOL"
      },
      "source": [
        "In the above cell, we take the descriptive statistics of the images we loaded in. The min and max values for the pixels are within the range of 0 to 255 inclusive, confirming that we have loaded the data correctly, as well as highlighting the need for data normalization."
      ]
    },
    {
      "cell_type": "markdown",
      "metadata": {
        "id": "q_NXOoLkFGOL"
      },
      "source": [
        "# Model Development\n",
        "\n",
        "## Setting up an Evaluation Framework\n",
        "\n",
        "Our task is to classify images of European road traffic signs, based on their shape and the type of traffic directives they convey to road users. Therefore, we have two multi-class classification problem tasks, requiring a model for each task. The data collected has shown to have a class imbalance, as seen in EDA. \n",
        "\n",
        "In order to evaluate the developed models, we will use a `weighted F1-score`, which can calculate the F1 score for each class in a one-vs-rest manner, then average the scores by using the number of instances in a class to weight each score.\n",
        "\n",
        "This will allow us to generate an evaluation metric suited for the multiple imbalanced classes.\n",
        "\n",
        "When evaluating model performance and hyperparameter tuning, we will use `stratified k-fold cross validation`, as it will make use of all the data and in turn, calculate a more general weighted f1-score. We use stratified sampling in our CV to account for the imbalanced classes.\n",
        "\n",
        "We will perform a train-test split on the data, and we will perform cross validation on the training data. The test data will be used after a tuned model has been cross validated and then subsequently trained on all the available training examples."
      ]
    },
    {
      "cell_type": "markdown",
      "metadata": {
        "id": "sJoE2jqdFGOL"
      },
      "source": [
        "## Classifying Sign Types\n",
        "### Creating a Baseline Model\n",
        "For a baseline model, we will opt for a `Random Forest Classifier`. This model will be opted for over other traditional supervised learning classifiers because it is non-parametric, meaning there are no assumptions we need to satisfy regarding the underlying data distribution. This in turn can eliminate the need for preprocessing steps such as feature scaling. \n",
        "\n",
        "Random Forest was also opted for over another non-parametric model, Decision Tree, due to Random Forest being an ensemble method, which is known to be less prone to overfitting and can achieve more accurate classifications than a single contributing model.\n",
        "\n",
        "Later on in model development, we will evaluate how a neural network approach compares with our chosen traditional ML algorithm, and make an ultimate judgement based on which one performed better at sign type classification."
      ]
    },
    {
      "cell_type": "code",
      "source": [
        "from sklearn.ensemble import RandomForestClassifier\n",
        "from sklearn.model_selection import cross_validate\n",
        "from sklearn.model_selection import train_test_split"
      ],
      "metadata": {
        "id": "s1K0jGr4ZkGG"
      },
      "execution_count": null,
      "outputs": []
    },
    {
      "cell_type": "code",
      "execution_count": null,
      "metadata": {
        "id": "IKHb4Yx4FGOL"
      },
      "outputs": [],
      "source": [
        "# preparing data for splitting\n",
        "images_df = pd.DataFrame(images)\n",
        "images_df['sign_types'] = signs['sign_types']\n",
        "\n",
        "# splitting data into training and testing sets\n",
        "train_data, test_data = train_test_split(images_df, test_size = 0.2, random_state = 0)\n",
        "train_X = train_data.iloc[:,:-1]\n",
        "train_y = train_data[\"sign_types\"]\n",
        "\n",
        "# creating model with default parameters (will tune this later)\n",
        "sign_type_clf = RandomForestClassifier(random_state=0)\n",
        "\n",
        "RF_scores_1 = cross_validate(sign_type_clf, train_X, train_y, cv = 5,\n",
        "                       scoring = 'f1_weighted', return_train_score = True)"
      ]
    },
    {
      "cell_type": "code",
      "execution_count": null,
      "metadata": {
        "colab": {
          "base_uri": "https://localhost:8080/"
        },
        "id": "7Wul7GVwFGOM",
        "outputId": "c74072f1-26bd-4efc-e473-1049d84b23c3"
      },
      "outputs": [
        {
          "output_type": "stream",
          "name": "stdout",
          "text": [
            "Training Score: 1.0,\n",
            "Validation Score: 0.944\n"
          ]
        }
      ],
      "source": [
        "print(f\"\"\"Training Score: {round(RF_scores_1['train_score'].mean(),3)},\n",
        "Validation Score: {round(RF_scores_1['test_score'].mean(),3)}\"\"\")"
      ]
    },
    {
      "cell_type": "code",
      "execution_count": null,
      "metadata": {
        "id": "OGXD-NC1FGOM"
      },
      "outputs": [],
      "source": [
        "# hyperparameter tuning with gridsearchCV\n",
        "from sklearn.model_selection import GridSearchCV\n",
        "\n",
        "params = {}\n",
        "params['criterion'] = ['gini','entropy']\n",
        "params['max_features'] = ['sqrt','log2']\n",
        "params['n_estimators'] = [10, 100, 1000]\n",
        "\n",
        "grid = GridSearchCV(sign_type_clf, params, cv = 5,\n",
        "                   scoring = 'f1_weighted', n_jobs = -1)"
      ]
    },
    {
      "cell_type": "code",
      "execution_count": null,
      "metadata": {
        "colab": {
          "base_uri": "https://localhost:8080/"
        },
        "id": "Y8rulSvLFGOM",
        "outputId": "bb393f8b-6f06-4ac8-d838-f0610823b706"
      },
      "outputs": [
        {
          "output_type": "execute_result",
          "data": {
            "text/plain": [
              "GridSearchCV(cv=5, estimator=RandomForestClassifier(random_state=0), n_jobs=-1,\n",
              "             param_grid={'criterion': ['gini', 'entropy'],\n",
              "                         'max_features': ['sqrt', 'log2'],\n",
              "                         'n_estimators': [10, 100, 1000]},\n",
              "             scoring='f1_weighted')"
            ]
          },
          "metadata": {},
          "execution_count": 21
        }
      ],
      "source": [
        "grid.fit(train_X, train_y)"
      ]
    },
    {
      "cell_type": "code",
      "execution_count": null,
      "metadata": {
        "colab": {
          "base_uri": "https://localhost:8080/"
        },
        "id": "r9XCIJjNFGOM",
        "outputId": "3811bb5b-6765-4454-f205-c90921e4c2d9"
      },
      "outputs": [
        {
          "output_type": "execute_result",
          "data": {
            "text/plain": [
              "RandomForestClassifier(criterion='entropy', max_features='sqrt',\n",
              "                       n_estimators=1000, random_state=0)"
            ]
          },
          "metadata": {},
          "execution_count": 22
        }
      ],
      "source": [
        "grid.best_estimator_"
      ]
    },
    {
      "cell_type": "code",
      "execution_count": null,
      "metadata": {
        "id": "HHVd1QZPFGON"
      },
      "outputs": [],
      "source": [
        "RF_scores_2 = cross_validate(grid.best_estimator_, train_X, train_y, cv = 5,\n",
        "                       scoring = 'f1_weighted', return_train_score = True, n_jobs=-1)"
      ]
    },
    {
      "cell_type": "code",
      "execution_count": null,
      "metadata": {
        "colab": {
          "base_uri": "https://localhost:8080/"
        },
        "id": "fj9Tfep_FGON",
        "outputId": "bcffbae8-b307-47d8-fc5d-2cc6cb220124"
      },
      "outputs": [
        {
          "output_type": "stream",
          "name": "stdout",
          "text": [
            "Training Score: 1.0,\n",
            "Validation Score: 0.952\n"
          ]
        }
      ],
      "source": [
        "print(f\"\"\"Training Score: {round(RF_scores_2['train_score'].mean(),3)},\n",
        "Validation Score: {round(RF_scores_2['test_score'].mean(),3)}\"\"\")"
      ]
    },
    {
      "cell_type": "code",
      "source": [
        "from sklearn.metrics import f1_score\n",
        "\n",
        "# fitting on all training examples, then predicting on test set\n",
        "sign_type_fitted_clf = grid.best_estimator_.fit(train_X, train_y)\n",
        "\n",
        "test_X = test_data.iloc[:,:-1]\n",
        "test_y = test_data[\"sign_types\"]\n",
        "\n",
        "y_pred = sign_type_fitted_clf.predict(test_X)\n",
        "f1_score(test_y, y_pred, average = 'weighted')"
      ],
      "metadata": {
        "colab": {
          "base_uri": "https://localhost:8080/"
        },
        "id": "6CrikumZ1iUi",
        "outputId": "d25d5288-f993-4787-a7dd-13447b8f59ae"
      },
      "execution_count": null,
      "outputs": [
        {
          "output_type": "execute_result",
          "data": {
            "text/plain": [
              "0.9666922131262197"
            ]
          },
          "metadata": {},
          "execution_count": 26
        }
      ]
    },
    {
      "cell_type": "markdown",
      "source": [
        "### Creating a CNN Classifier\n",
        "After having created a traditional ML model (Random Forest) and performing hyperparameter tuning, we observed a validation F1-score of 0.961, meaning we have already achieved a high performing model on the given training images. However, the next stage of model development will be to explore Deep Learning, and particularly Convolutional Neural Networks, in order to see if sign-type classification can be improved further. \n",
        "\n",
        "As there are many NN architectures around that are capable of performing image classification. For this project, we will opt for a modified version of the VGG architecture proposed by Simonyan and Zisserman in [Very Deep Convolutional Networks for Large-Scale Image Recognition](https://arxiv.org/abs/1409.1556).\n",
        "\n",
        "VGG16 supports 16 layers, with the input image size being 224x224, however, this is more than what is required for our 28x28 images. What we can observe from the paper is that the convolutional layers in a given VGG block do not reduce the size of the input due to all Conv2D layers having stride 1 and same padding. \n",
        "\n",
        "Only the Max Pooling layers reduce the image dimensions by a factor of 2. For example, a 224x224 input becomes 112x112 after Max Pooling with a 2x2 filter. VGG16 uses 5 Max Pooling 2x2 layers to reduce the 224x224 images to 7x7. For our case, we only need 2 Max Pooling layers to reduce 28x28 to 7x7, hence only 2 VGG blocks are needed (6 layers in total). We also need to flatten the features after convolution, then pass the flattened inputs through 2 dense layers.\n",
        "\n",
        "Originally, VGG16 uses 2 ReLu Activated Dense Layers after convolution, however we will only opt for one Dense layer with ReLu activation to reduce the risk of overfitting, as well as reduce training time.\n",
        "\n",
        "In the below cells, the modified VGG model is built for the purpose of summarizing the model complexity."
      ],
      "metadata": {
        "id": "JrecLI7WCaYJ"
      }
    },
    {
      "cell_type": "code",
      "execution_count": 15,
      "metadata": {
        "id": "VZTI-cGOFGON",
        "colab": {
          "base_uri": "https://localhost:8080/",
          "height": 35
        },
        "outputId": "f8053bce-d5cd-4251-e67d-a43ac3e9d23b"
      },
      "outputs": [
        {
          "output_type": "execute_result",
          "data": {
            "text/plain": [
              "'2.8.0'"
            ],
            "application/vnd.google.colaboratory.intrinsic+json": {
              "type": "string"
            }
          },
          "metadata": {},
          "execution_count": 15
        }
      ],
      "source": [
        "import tensorflow as tf\n",
        "AUTOTUNE = tf.data.experimental.AUTOTUNE\n",
        "tf.__version__"
      ]
    },
    {
      "cell_type": "code",
      "source": [
        "sign_types_output_classes = len(signs['sign_types'].unique())\n",
        "\n",
        "# Creating this model in order to summarize model complexity, such as number of trainable params\n",
        "model_VGG_1 = tf.keras.Sequential([\n",
        "    # VGG Block 1\n",
        "    tf.keras.layers.Conv2D(32, (3,3), activation = 'relu', padding = 'same', input_shape=(28,28,1)),\n",
        "    tf.keras.layers.Conv2D(32, (3,3), activation = 'relu', padding = 'same'),\n",
        "    tf.keras.layers.MaxPooling2D((2,2)),\n",
        "\n",
        "    # VGG Block 2\n",
        "    tf.keras.layers.Conv2D(64, (3,3), activation = 'relu', padding = 'same'),\n",
        "    tf.keras.layers.Conv2D(64, (3,3), activation = 'relu', padding = 'same'),\n",
        "    tf.keras.layers.MaxPooling2D((2,2)),\n",
        "\n",
        "    tf.keras.layers.Flatten(),\n",
        "    tf.keras.layers.Dense(64, activation = 'relu'),\n",
        "    tf.keras.layers.Dense(sign_types_output_classes, activation = 'softmax')\n",
        "])\n",
        "\n",
        "model_VGG_1.summary()"
      ],
      "metadata": {
        "colab": {
          "base_uri": "https://localhost:8080/"
        },
        "id": "KuQnfAdtAnox",
        "outputId": "244cda2a-2cd2-40a0-b023-9b8c55c10ce5"
      },
      "execution_count": null,
      "outputs": [
        {
          "output_type": "stream",
          "name": "stdout",
          "text": [
            "Model: \"sequential\"\n",
            "_________________________________________________________________\n",
            " Layer (type)                Output Shape              Param #   \n",
            "=================================================================\n",
            " conv2d (Conv2D)             (None, 28, 28, 32)        320       \n",
            "                                                                 \n",
            " conv2d_1 (Conv2D)           (None, 28, 28, 32)        9248      \n",
            "                                                                 \n",
            " max_pooling2d (MaxPooling2D  (None, 14, 14, 32)       0         \n",
            " )                                                               \n",
            "                                                                 \n",
            " conv2d_2 (Conv2D)           (None, 14, 14, 64)        18496     \n",
            "                                                                 \n",
            " conv2d_3 (Conv2D)           (None, 14, 14, 64)        36928     \n",
            "                                                                 \n",
            " max_pooling2d_1 (MaxPooling  (None, 7, 7, 64)         0         \n",
            " 2D)                                                             \n",
            "                                                                 \n",
            " flatten (Flatten)           (None, 3136)              0         \n",
            "                                                                 \n",
            " dense (Dense)               (None, 64)                200768    \n",
            "                                                                 \n",
            " dense_1 (Dense)             (None, 16)                1040      \n",
            "                                                                 \n",
            "=================================================================\n",
            "Total params: 266,800\n",
            "Trainable params: 266,800\n",
            "Non-trainable params: 0\n",
            "_________________________________________________________________\n"
          ]
        }
      ]
    },
    {
      "cell_type": "markdown",
      "source": [
        "In order to get a more generalized accuracy metric from training our CNN, we will use 5-fold stratified cross validation. At each epoch, the returned evaluation metrics will be averaged across the five folds, and then the entire history of loss and accuracy will be plotted."
      ],
      "metadata": {
        "id": "hXwkA9jHN_u2"
      }
    },
    {
      "cell_type": "code",
      "source": [
        "from sklearn.model_selection import StratifiedKFold\n",
        "from tensorflow.keras.preprocessing.image import ImageDataGenerator\n",
        "\n",
        "train_data, test_data = train_test_split(signs, test_size = 0.2, random_state = 0)\n",
        "\n",
        "kfold = StratifiedKFold(n_splits = 5, shuffle = True, random_state = 0)"
      ],
      "metadata": {
        "id": "3PWt6XIfZY9o"
      },
      "execution_count": null,
      "outputs": []
    },
    {
      "cell_type": "code",
      "source": [
        "# Cross Validation on Baseline CNN model (no regularization)\n",
        "cv_history_VGG_1 = [] # store history objects from training\n",
        "EPOCHS = 150\n",
        "\n",
        "X,y = train_data[['filename']], train_data[['sign_types']]\n",
        "\n",
        "for train, val in kfold.split(X, y):\n",
        "    train_df = pd.concat([X.iloc[train,],y.iloc[train,]], axis=1).reset_index(drop = True)\n",
        "    val_df = pd.concat([X.iloc[val,],y.iloc[val,]], axis=1).reset_index(drop = True)\n",
        "\n",
        "    train_datagen = ImageDataGenerator(rescale=1./255, data_format='channels_last')\n",
        "    val_datagen = ImageDataGenerator(rescale=1./255, data_format='channels_last')\n",
        "\n",
        "    batch_size = 32\n",
        "\n",
        "    train_generator = train_datagen.flow_from_dataframe(\n",
        "        dataframe = train_df,\n",
        "        directory = './',\n",
        "        x_col = 'filename',\n",
        "        y_col = 'sign_types',\n",
        "        target_size = (28,28),\n",
        "        color_mode = 'grayscale',\n",
        "        batch_size = batch_size,\n",
        "        class_mode = 'categorical'\n",
        "    )\n",
        "\n",
        "    val_generator = val_datagen.flow_from_dataframe(\n",
        "        dataframe = val_df,\n",
        "        directory = './',\n",
        "        x_col = 'filename',\n",
        "        y_col = 'sign_types',\n",
        "        target_size = (28,28),\n",
        "        color_mode = 'grayscale',\n",
        "        batch_size = batch_size,\n",
        "        class_mode = 'categorical'\n",
        "    )\n",
        "\n",
        "    model_VGG_1 = tf.keras.Sequential([\n",
        "        tf.keras.layers.Conv2D(32, (3,3), activation = 'relu', padding = 'same', input_shape=(28,28,1)),\n",
        "        tf.keras.layers.Conv2D(32, (3,3), activation = 'relu', padding = 'same'),\n",
        "        tf.keras.layers.MaxPooling2D((2,2)),\n",
        "\n",
        "        tf.keras.layers.Conv2D(64, (3,3), activation = 'relu', padding = 'same'),\n",
        "        tf.keras.layers.Conv2D(64, (3,3), activation = 'relu', padding = 'same'),\n",
        "        tf.keras.layers.MaxPooling2D((2,2)),\n",
        "\n",
        "        tf.keras.layers.Flatten(),\n",
        "        tf.keras.layers.Dense(64, activation = 'relu'),\n",
        "        tf.keras.layers.Dense(sign_types_output_classes, activation = 'softmax')\n",
        "    ])\n",
        "\n",
        "    model_VGG_1.compile(optimizer='SGD',\n",
        "              loss=tf.keras.losses.CategoricalCrossentropy(from_logits=False),\n",
        "              metrics=['categorical_accuracy'])\n",
        "\n",
        "    history_VGG_1 = model_VGG_1.fit_generator(train_generator,validation_data = val_generator,epochs = EPOCHS,verbose = 0)\n",
        "    cv_history_VGG_1.append(history_VGG_1)"
      ],
      "metadata": {
        "colab": {
          "base_uri": "https://localhost:8080/"
        },
        "id": "GZrXvWCMYuV-",
        "outputId": "5aded593-6b54-43d9-c203-9233d552a6df"
      },
      "execution_count": null,
      "outputs": [
        {
          "output_type": "stream",
          "name": "stdout",
          "text": [
            "Found 2367 validated image filenames belonging to 16 classes.\n",
            "Found 592 validated image filenames belonging to 16 classes.\n"
          ]
        },
        {
          "output_type": "stream",
          "name": "stderr",
          "text": [
            "/usr/local/lib/python3.7/dist-packages/ipykernel_launcher.py:61: UserWarning: `Model.fit_generator` is deprecated and will be removed in a future version. Please use `Model.fit`, which supports generators.\n"
          ]
        },
        {
          "output_type": "stream",
          "name": "stdout",
          "text": [
            "Found 2367 validated image filenames belonging to 16 classes.\n",
            "Found 592 validated image filenames belonging to 16 classes.\n",
            "Found 2367 validated image filenames belonging to 16 classes.\n",
            "Found 592 validated image filenames belonging to 16 classes.\n",
            "Found 2367 validated image filenames belonging to 16 classes.\n",
            "Found 592 validated image filenames belonging to 16 classes.\n",
            "Found 2368 validated image filenames belonging to 16 classes.\n",
            "Found 591 validated image filenames belonging to 16 classes.\n"
          ]
        }
      ]
    },
    {
      "cell_type": "code",
      "source": [
        "# initializing lists to store various evaluation metrics after averaging across folds\n",
        "VGG_1_loss, VGG_1_val_loss, VGG_1_acc, VGG_1_val_acc = [], [], [], []\n",
        "\n",
        "for i in range(EPOCHS):\n",
        "  temp_loss, temp_val_loss, temp_acc, temp_val_acc = [], [], [], []\n",
        "\n",
        "  for j in range(len(cv_history_VGG_1)):\n",
        "    temp_loss.append(cv_history_VGG_1[j].history['loss'][i])\n",
        "    temp_val_loss.append(cv_history_VGG_1[j].history['val_loss'][i])\n",
        "    temp_acc.append(cv_history_VGG_1[j].history['categorical_accuracy'][i])\n",
        "    temp_val_acc.append(cv_history_VGG_1[j].history['val_categorical_accuracy'][i])\n",
        "\n",
        "  VGG_1_loss.append(sum(temp_loss)/len(temp_loss))\n",
        "  VGG_1_val_loss.append(sum(temp_val_loss)/len(temp_val_loss))\n",
        "  VGG_1_acc.append(sum(temp_acc)/len(temp_acc))\n",
        "  VGG_1_val_acc.append(sum(temp_val_acc)/len(temp_val_acc))\n",
        "\n",
        "# plotting the learning curves\n",
        "plt.figure(figsize = (10,5))\n",
        "plt.subplot(1,2,1)\n",
        "plt.plot(VGG_1_loss, 'red')\n",
        "plt.plot(VGG_1_val_loss, 'blue')\n",
        "plt.xlabel(\"epochs\")\n",
        "plt.ylabel(\"Loss\")\n",
        "plt.legend(['train', 'val'], loc='upper right')\n",
        "\n",
        "plt.subplot(1,2,2)\n",
        "plt.plot(VGG_1_acc, 'red')\n",
        "plt.plot(VGG_1_val_acc, 'blue')\n",
        "plt.xlabel(\"epochs\")\n",
        "plt.ylabel(\"Accuracy\")\n",
        "plt.legend(['train', 'val'], loc='lower right')\n",
        "\n",
        "plt.show()"
      ],
      "metadata": {
        "colab": {
          "base_uri": "https://localhost:8080/",
          "height": 334
        },
        "id": "CfRRbT7xYuZ7",
        "outputId": "867d9908-ce13-4f57-9a96-cf20459f4b01"
      },
      "execution_count": null,
      "outputs": [
        {
          "output_type": "display_data",
          "data": {
            "text/plain": [
              "<Figure size 720x360 with 2 Axes>"
            ],
            "image/png": "[encoded data removed]"
          },
          "metadata": {
            "needs_background": "light"
          }
        }
      ]
    },
    {
      "cell_type": "markdown",
      "source": [
        "In the above learning curve plots, we observe that the neural network is overfitting, and hence we need to handle this.\n",
        "\n",
        "We will apply regularization techniques, and use stratified, 5-fold grid search for hyperparameter tuning. In particular, we will search for an optimal lambda value for Ridge Regularization, and an optimal dropout rate. \n",
        "\n",
        "In order to reduce running time, we will lower the number of epochs to 50 as there appears to be no visible improvement in performance in later epochs. A limited search space will be used to minimize running time."
      ],
      "metadata": {
        "id": "sYSCdtbLkbY5"
      }
    },
    {
      "cell_type": "code",
      "source": [
        "from sklearn.model_selection import ParameterGrid\n",
        "\n",
        "params = {}\n",
        "params[\"reg_lambda\"] = [0.001, 0.01, 0.1]\n",
        "params[\"dropout_rate\"] = [0.1, 0.2, 0.3]\n",
        "\n",
        "list(ParameterGrid(params))"
      ],
      "metadata": {
        "colab": {
          "base_uri": "https://localhost:8080/"
        },
        "id": "j94biut8vwCr",
        "outputId": "d60cc9be-b961-446b-844d-a28610406dc9"
      },
      "execution_count": null,
      "outputs": [
        {
          "output_type": "execute_result",
          "data": {
            "text/plain": [
              "[{'dropout_rate': 0.1, 'reg_lambda': 0.001},\n",
              " {'dropout_rate': 0.1, 'reg_lambda': 0.01},\n",
              " {'dropout_rate': 0.1, 'reg_lambda': 0.1},\n",
              " {'dropout_rate': 0.2, 'reg_lambda': 0.001},\n",
              " {'dropout_rate': 0.2, 'reg_lambda': 0.01},\n",
              " {'dropout_rate': 0.2, 'reg_lambda': 0.1},\n",
              " {'dropout_rate': 0.3, 'reg_lambda': 0.001},\n",
              " {'dropout_rate': 0.3, 'reg_lambda': 0.01},\n",
              " {'dropout_rate': 0.3, 'reg_lambda': 0.1}]"
            ]
          },
          "metadata": {},
          "execution_count": 27
        }
      ]
    },
    {
      "cell_type": "code",
      "source": [
        "# Performing a custom GridSearchCV for regularization hyperparameters on CNN\n",
        "best_params = None\n",
        "best_val_acc = 0\n",
        "EPOCHS = 50\n",
        "\n",
        "X,y = train_data[['filename']], train_data[['sign_types']]\n",
        "\n",
        "for parameters in list(ParameterGrid(params)):\n",
        "    reg_lambda = parameters[\"reg_lambda\"]\n",
        "    dropout_rate = parameters[\"dropout_rate\"]\n",
        "    cv_history_VGG_2 = [] # store history objects from training\n",
        "\n",
        "    for train, val in kfold.split(X, y):\n",
        "        train_df = pd.concat([X.iloc[train,],y.iloc[train,]], axis=1).reset_index(drop = True)\n",
        "        val_df = pd.concat([X.iloc[val,],y.iloc[val,]], axis=1).reset_index(drop = True)\n",
        "\n",
        "        train_datagen = ImageDataGenerator(rescale=1./255, data_format='channels_last')\n",
        "        val_datagen = ImageDataGenerator(rescale=1./255, data_format='channels_last')\n",
        "\n",
        "        batch_size = 32\n",
        "\n",
        "        train_generator = train_datagen.flow_from_dataframe(\n",
        "            dataframe = train_df,\n",
        "            directory = './',\n",
        "            x_col = 'filename',\n",
        "            y_col = 'sign_types',\n",
        "            target_size = (28,28),\n",
        "            color_mode = 'grayscale',\n",
        "            batch_size = batch_size,\n",
        "            class_mode = 'categorical'\n",
        "        )\n",
        "\n",
        "        val_generator = val_datagen.flow_from_dataframe(\n",
        "            dataframe = val_df,\n",
        "            directory = './',\n",
        "            x_col = 'filename',\n",
        "            y_col = 'sign_types',\n",
        "            target_size = (28,28),\n",
        "            color_mode = 'grayscale',\n",
        "            batch_size = batch_size,\n",
        "            class_mode = 'categorical'\n",
        "        )\n",
        "\n",
        "        model_VGG_2 = tf.keras.Sequential([\n",
        "            tf.keras.layers.Conv2D(32, (3,3), activation = 'relu', padding = 'same',\n",
        "                                  kernel_regularizer=tf.keras.regularizers.l2(reg_lambda), input_shape=(28,28,1)),\n",
        "            tf.keras.layers.Conv2D(32, (3,3), activation = 'relu', padding = 'same',\n",
        "                                  kernel_regularizer=tf.keras.regularizers.l2(reg_lambda)),\n",
        "            tf.keras.layers.MaxPooling2D((2,2)),\n",
        "\n",
        "            tf.keras.layers.Conv2D(64, (3,3), activation = 'relu', padding = 'same',\n",
        "                                  kernel_regularizer=tf.keras.regularizers.l2(reg_lambda)),\n",
        "            tf.keras.layers.Conv2D(64, (3,3), activation = 'relu', padding = 'same',\n",
        "                                  kernel_regularizer=tf.keras.regularizers.l2(reg_lambda)),\n",
        "            tf.keras.layers.MaxPooling2D((2,2)),\n",
        "\n",
        "            tf.keras.layers.Flatten(),\n",
        "            tf.keras.layers.Dense(64, activation = 'relu'),\n",
        "            tf.keras.layers.Dropout(dropout_rate),\n",
        "            tf.keras.layers.Dense(sign_types_output_classes, activation = 'softmax')\n",
        "        ])\n",
        "\n",
        "        model_VGG_2.compile(optimizer='SGD',\n",
        "                  loss=tf.keras.losses.CategoricalCrossentropy(from_logits=False),\n",
        "                  metrics=['categorical_accuracy'])\n",
        "\n",
        "        history_VGG_2 = model_VGG_2.fit_generator(train_generator,validation_data = val_generator,epochs = EPOCHS,verbose = 0)\n",
        "        cv_history_VGG_2.append(history_VGG_2)\n",
        "\n",
        "    VGG_2_val_acc = []\n",
        "    for i in range(EPOCHS):\n",
        "        temp_val_acc = []\n",
        "        for j in range(len(cv_history_VGG_2)):\n",
        "            temp_val_acc.append(cv_history_VGG_2[j].history[\"val_categorical_accuracy\"][i])\n",
        "        VGG_2_val_acc.append(sum(temp_val_acc)/len(temp_val_acc))\n",
        "    if VGG_2_val_acc[-1] > best_val_acc:\n",
        "        best_val_acc = VGG_2_val_acc[-1]\n",
        "        best_params = parameters"
      ],
      "metadata": {
        "id": "jfK7rhcI0xZR"
      },
      "execution_count": null,
      "outputs": []
    },
    {
      "cell_type": "code",
      "source": [
        "best_params"
      ],
      "metadata": {
        "colab": {
          "base_uri": "https://localhost:8080/"
        },
        "id": "xJ6nIII86AXd",
        "outputId": "86e3db8a-fa3d-4480-f11a-8a1a99fc0d47"
      },
      "execution_count": null,
      "outputs": [
        {
          "output_type": "execute_result",
          "data": {
            "text/plain": [
              "{'dropout_rate': 0.3, 'reg_lambda': 0.001}"
            ]
          },
          "metadata": {},
          "execution_count": 43
        }
      ]
    },
    {
      "cell_type": "code",
      "source": [
        "# Running Cross Validation on tuned CNN model\n",
        "cv_history_VGG_3 = [] # store history objects from training\n",
        "EPOCHS = 50\n",
        "\n",
        "X,y = train_data[['filename']], train_data[['sign_types']]\n",
        "\n",
        "for train, val in kfold.split(X, y):\n",
        "    train_df = pd.concat([X.iloc[train,],y.iloc[train,]], axis=1).reset_index(drop = True)\n",
        "    val_df = pd.concat([X.iloc[val,],y.iloc[val,]], axis=1).reset_index(drop = True)\n",
        "\n",
        "    train_datagen = ImageDataGenerator(rescale=1./255, data_format='channels_last')\n",
        "    val_datagen = ImageDataGenerator(rescale=1./255, data_format='channels_last')\n",
        "\n",
        "    batch_size = 32\n",
        "\n",
        "    train_generator = train_datagen.flow_from_dataframe(\n",
        "        dataframe = train_df,\n",
        "        directory = './',\n",
        "        x_col = 'filename',\n",
        "        y_col = 'sign_types',\n",
        "        target_size = (28,28),\n",
        "        color_mode = 'grayscale',\n",
        "        batch_size = batch_size,\n",
        "        class_mode = 'categorical'\n",
        "    )\n",
        "\n",
        "    val_generator = val_datagen.flow_from_dataframe(\n",
        "        dataframe = val_df,\n",
        "        directory = './',\n",
        "        x_col = 'filename',\n",
        "        y_col = 'sign_types',\n",
        "        target_size = (28,28),\n",
        "        color_mode = 'grayscale',\n",
        "        batch_size = batch_size,\n",
        "        class_mode = 'categorical'\n",
        "    )\n",
        "\n",
        "    model_VGG_3 = tf.keras.Sequential([\n",
        "        tf.keras.layers.Conv2D(32, (3,3), activation = 'relu', padding = 'same', \n",
        "                               kernel_regularizer=tf.keras.regularizers.l2(0.001), input_shape=(28,28,1)),\n",
        "        tf.keras.layers.Conv2D(32, (3,3), activation = 'relu', padding = 'same',\n",
        "                               kernel_regularizer=tf.keras.regularizers.l2(0.001)),\n",
        "        tf.keras.layers.MaxPooling2D((2,2)),\n",
        "\n",
        "        tf.keras.layers.Conv2D(64, (3,3), activation = 'relu', padding = 'same',\n",
        "                               kernel_regularizer=tf.keras.regularizers.l2(0.001)),\n",
        "        tf.keras.layers.Conv2D(64, (3,3), activation = 'relu', padding = 'same',\n",
        "                               kernel_regularizer=tf.keras.regularizers.l2(0.001)),\n",
        "        tf.keras.layers.MaxPooling2D((2,2)),\n",
        "\n",
        "        tf.keras.layers.Flatten(),\n",
        "        tf.keras.layers.Dense(64, activation = 'relu'),\n",
        "        tf.keras.layers.Dropout(0.3),\n",
        "        tf.keras.layers.Dense(sign_types_output_classes, activation = 'softmax')\n",
        "    ])\n",
        "\n",
        "    model_VGG_3.compile(optimizer='SGD',\n",
        "              loss=tf.keras.losses.CategoricalCrossentropy(from_logits=False),\n",
        "              metrics=['categorical_accuracy'])\n",
        "\n",
        "    history_VGG_3 = model_VGG_3.fit_generator(train_generator,validation_data = val_generator,epochs = EPOCHS,verbose = 0)\n",
        "    cv_history_VGG_3.append(history_VGG_3)"
      ],
      "metadata": {
        "colab": {
          "base_uri": "https://localhost:8080/"
        },
        "id": "fDBrjNm1T9RE",
        "outputId": "710e826f-2796-4dc0-9f90-8a73c3140d94"
      },
      "execution_count": null,
      "outputs": [
        {
          "output_type": "stream",
          "name": "stdout",
          "text": [
            "Found 2959 validated image filenames belonging to 16 classes.\n",
            "Found 740 validated image filenames belonging to 16 classes.\n"
          ]
        },
        {
          "output_type": "stream",
          "name": "stderr",
          "text": [
            "/usr/local/lib/python3.7/dist-packages/ipykernel_launcher.py:58: UserWarning: `Model.fit_generator` is deprecated and will be removed in a future version. Please use `Model.fit`, which supports generators.\n"
          ]
        },
        {
          "output_type": "stream",
          "name": "stdout",
          "text": [
            "Found 2959 validated image filenames belonging to 16 classes.\n",
            "Found 740 validated image filenames belonging to 16 classes.\n",
            "Found 2959 validated image filenames belonging to 16 classes.\n",
            "Found 740 validated image filenames belonging to 16 classes.\n",
            "Found 2959 validated image filenames belonging to 16 classes.\n",
            "Found 740 validated image filenames belonging to 16 classes.\n",
            "Found 2960 validated image filenames belonging to 16 classes.\n",
            "Found 739 validated image filenames belonging to 16 classes.\n"
          ]
        }
      ]
    },
    {
      "cell_type": "code",
      "source": [
        "# initializing lists to store various evaluation metrics after averaging across folds\n",
        "VGG_3_loss, VGG_3_val_loss, VGG_3_acc, VGG_3_val_acc = [], [], [], []\n",
        "\n",
        "for i in range(EPOCHS):\n",
        "  temp_loss, temp_val_loss, temp_acc, temp_val_acc = [], [], [], []\n",
        "\n",
        "  for j in range(len(cv_history_VGG_3)):\n",
        "    temp_loss.append(cv_history_VGG_3[j].history['loss'][i])\n",
        "    temp_val_loss.append(cv_history_VGG_3[j].history['val_loss'][i])\n",
        "    temp_acc.append(cv_history_VGG_3[j].history['categorical_accuracy'][i])\n",
        "    temp_val_acc.append(cv_history_VGG_3[j].history['val_categorical_accuracy'][i])\n",
        "\n",
        "  VGG_3_loss.append(sum(temp_loss)/len(temp_loss))\n",
        "  VGG_3_val_loss.append(sum(temp_val_loss)/len(temp_val_loss))\n",
        "  VGG_3_acc.append(sum(temp_acc)/len(temp_acc))\n",
        "  VGG_3_val_acc.append(sum(temp_val_acc)/len(temp_val_acc))\n",
        "\n",
        "# plotting the learning curves\n",
        "plt.figure(figsize = (10,5))\n",
        "plt.subplot(1,2,1)\n",
        "plt.plot(VGG_3_loss, 'red')\n",
        "plt.plot(VGG_3_val_loss, 'blue')\n",
        "plt.xlabel(\"epochs\")\n",
        "plt.ylabel(\"Loss\")\n",
        "plt.legend(['train', 'val'], loc='upper right')\n",
        "\n",
        "plt.subplot(1,2,2)\n",
        "plt.plot(VGG_3_acc, 'red')\n",
        "plt.plot(VGG_3_val_acc, 'blue')\n",
        "plt.xlabel(\"epochs\")\n",
        "plt.ylabel(\"Accuracy\")\n",
        "plt.legend(['train', 'val'], loc='lower right')\n",
        "\n",
        "plt.show()"
      ],
      "metadata": {
        "colab": {
          "base_uri": "https://localhost:8080/",
          "height": 334
        },
        "id": "VwogmMkKUcUl",
        "outputId": "65eca781-ae14-4e5e-c208-d125a0c914aa"
      },
      "execution_count": null,
      "outputs": [
        {
          "output_type": "display_data",
          "data": {
            "text/plain": [
              "<Figure size 720x360 with 2 Axes>"
            ],
            "image/png": "[encoded data removed]"
          },
          "metadata": {
            "needs_background": "light"
          }
        }
      ]
    },
    {
      "cell_type": "markdown",
      "source": [
        "After regularizing with the tuned hyperparameters, we were able to address the overfitting issue in our modified VGG neural network. In 50 epochs, the model was able to achieve 97.4% validation accuracy, and a training accuracy of 99.1%. This difference of ~1.7% is far better than the ~3.5% difference in our unregularized neural network.\n",
        "\n",
        "However, since we used F1-score for the Random Forest classifier earlier, we will take the regularized CNN model, train it, then predict with it on the partitioned `test_data` from earlier. This will allow us to use the sklearn F1-score, which isn't included in Keras because it is a global metric, and does not apply well to batch learning."
      ],
      "metadata": {
        "id": "ee3KRD7WVV-b"
      }
    },
    {
      "cell_type": "code",
      "source": [
        "VGG_3_val_acc[-1], VGG_3_acc[-1]"
      ],
      "metadata": {
        "colab": {
          "base_uri": "https://localhost:8080/"
        },
        "id": "8ipNPVc1XOW1",
        "outputId": "a3c1593a-0cb1-4cd9-8dad-48ec40cb6317"
      },
      "execution_count": null,
      "outputs": [
        {
          "output_type": "execute_result",
          "data": {
            "text/plain": [
              "(0.9745869278907776, 0.9913489103317261)"
            ]
          },
          "metadata": {},
          "execution_count": 54
        }
      ]
    },
    {
      "cell_type": "code",
      "source": [
        "VGG_1_val_acc[-1], VGG_1_acc[-1]"
      ],
      "metadata": {
        "colab": {
          "base_uri": "https://localhost:8080/"
        },
        "id": "s2d8jduKXTXR",
        "outputId": "5532da36-a05a-47b3-ab8e-6592f64ca438"
      },
      "execution_count": null,
      "outputs": [
        {
          "output_type": "execute_result",
          "data": {
            "text/plain": [
              "(0.9659371733665466, 1.0)"
            ]
          },
          "metadata": {},
          "execution_count": 55
        }
      ]
    },
    {
      "cell_type": "code",
      "source": [
        "#-------------\n",
        "# temporary\n",
        "#from sklearn.model_selection import StratifiedKFold\n",
        "#from sklearn.model_selection import train_test_split\n",
        "#from tensorflow.keras.preprocessing.image import ImageDataGenerator\n",
        "\n",
        "#train_data, test_data = train_test_split(signs, test_size = 0.2, random_state = 0)\n",
        "\n",
        "#kfold = StratifiedKFold(n_splits = 5, shuffle = True, random_state = 0)\n",
        "\n",
        "#sign_types_output_classes = len(signs['sign_types'].unique())\n",
        "\n",
        "#-------------\n",
        "\n",
        "# Training CNN Model with Tuned Hyperparameters, to be used on independent test data\n",
        "EPOCHS = 50\n",
        "batch_size = 32\n",
        "\n",
        "train_datagen = ImageDataGenerator(rescale=1./255, data_format='channels_last')\n",
        "\n",
        "train_generator = train_datagen.flow_from_dataframe(\n",
        "    dataframe = train_data,\n",
        "    directory = './',\n",
        "    x_col = 'filename',\n",
        "    y_col = 'sign_types',\n",
        "    target_size = (28,28),\n",
        "    color_mode = 'grayscale',\n",
        "    batch_size = batch_size,\n",
        "    class_mode = 'categorical'\n",
        ")\n",
        "\n",
        "model_VGG_3 = tf.keras.Sequential([\n",
        "    tf.keras.layers.Conv2D(32, (3,3), activation = 'relu', padding = 'same', \n",
        "                            kernel_regularizer=tf.keras.regularizers.l2(0.001), input_shape=(28,28,1)),\n",
        "    tf.keras.layers.Conv2D(32, (3,3), activation = 'relu', padding = 'same',\n",
        "                            kernel_regularizer=tf.keras.regularizers.l2(0.001)),\n",
        "    tf.keras.layers.MaxPooling2D((2,2)),\n",
        "\n",
        "    tf.keras.layers.Conv2D(64, (3,3), activation = 'relu', padding = 'same',\n",
        "                            kernel_regularizer=tf.keras.regularizers.l2(0.001)),\n",
        "    tf.keras.layers.Conv2D(64, (3,3), activation = 'relu', padding = 'same',\n",
        "                            kernel_regularizer=tf.keras.regularizers.l2(0.001)),\n",
        "    tf.keras.layers.MaxPooling2D((2,2)),\n",
        "\n",
        "    tf.keras.layers.Flatten(),\n",
        "    tf.keras.layers.Dense(64, activation = 'relu'),\n",
        "    tf.keras.layers.Dropout(0.3),\n",
        "    tf.keras.layers.Dense(sign_types_output_classes, activation = 'softmax')\n",
        "])\n",
        "\n",
        "model_VGG_3.compile(optimizer='SGD',\n",
        "          loss=tf.keras.losses.CategoricalCrossentropy(from_logits=False),\n",
        "          metrics=['categorical_accuracy'])\n",
        "\n",
        "history_VGG_3 = model_VGG_3.fit_generator(train_generator, epochs = EPOCHS,verbose = 0)\n",
        "\n",
        "model_VGG_3.save(\"model_VGG_3\")\n",
        "\n",
        "#!cp -R ./model_VGG_3 /content/drive/MyDrive"
      ],
      "metadata": {
        "id": "kg5xme94XGRV",
        "colab": {
          "base_uri": "https://localhost:8080/"
        },
        "outputId": "6a82b1cc-2f58-4c7a-916a-000de0b586e2"
      },
      "execution_count": 17,
      "outputs": [
        {
          "output_type": "stream",
          "name": "stdout",
          "text": [
            "Found 2959 validated image filenames belonging to 16 classes.\n"
          ]
        },
        {
          "output_type": "stream",
          "name": "stderr",
          "text": [
            "/usr/local/lib/python3.7/dist-packages/ipykernel_launcher.py:55: UserWarning: `Model.fit_generator` is deprecated and will be removed in a future version. Please use `Model.fit`, which supports generators.\n"
          ]
        },
        {
          "output_type": "stream",
          "name": "stdout",
          "text": [
            "INFO:tensorflow:Assets written to: model_VGG_3/assets\n"
          ]
        }
      ]
    },
    {
      "cell_type": "code",
      "source": [
        "test_images = [] # initialize list to store image arrays\n",
        "\n",
        "for index, row in test_data.iterrows():\n",
        "    filename = row[2]\n",
        "    img_path = os.path.join(filename)\n",
        "    img = np.asarray(Image.open(img_path))\n",
        "    scaled_img = img/255\n",
        "    test_images.append(scaled_img)\n",
        "\n",
        "test_images = tf.reshape(test_images, (-1,28,28,1))"
      ],
      "metadata": {
        "id": "uB0Jm35Q8pUb"
      },
      "execution_count": 51,
      "outputs": []
    },
    {
      "cell_type": "code",
      "source": [
        "test_data['sign_types']"
      ],
      "metadata": {
        "colab": {
          "base_uri": "https://localhost:8080/"
        },
        "id": "eOqSzoUa-BS6",
        "outputId": "d041167c-a0bf-4e9d-83cb-df05e778d55d"
      },
      "execution_count": 25,
      "outputs": [
        {
          "output_type": "execute_result",
          "data": {
            "text/plain": [
              "526        parking\n",
              "2724       noentry\n",
              "1580       giveway\n",
              "3592    rightofway\n",
              "3301     noparking\n",
              "           ...    \n",
              "1357       warning\n",
              "2668       noentry\n",
              "1051       warning\n",
              "2932         speed\n",
              "2063       bicycle\n",
              "Name: sign_types, Length: 740, dtype: object"
            ]
          },
          "metadata": {},
          "execution_count": 25
        }
      ]
    },
    {
      "cell_type": "code",
      "source": [
        "from sklearn.metrics import f1_score\n",
        "\n",
        "y_probabilities = model_VGG_3.predict(test_images)\n",
        "y_pred= y_probabilities.argmax(axis=-1)"
      ],
      "metadata": {
        "id": "x3VnAMHLJaw0"
      },
      "execution_count": 58,
      "outputs": []
    },
    {
      "cell_type": "code",
      "source": [
        "label_mappings = {}\n",
        "for i,label in enumerate(sorted(signs['sign_types'].unique())):\n",
        "  label_mappings[label] = i\n",
        "\n",
        "y_true = test_data['sign_types'].map(label_mappings).to_numpy()"
      ],
      "metadata": {
        "id": "CG0tKlLUDbkW"
      },
      "execution_count": 68,
      "outputs": []
    },
    {
      "cell_type": "code",
      "source": [
        "f1_score(y_true, y_pred, average = 'weighted')"
      ],
      "metadata": {
        "colab": {
          "base_uri": "https://localhost:8080/"
        },
        "id": "218sLqotDJED",
        "outputId": "8b25f434-ef59-4a6e-ce4a-dae23c7a0a7e"
      },
      "execution_count": 71,
      "outputs": [
        {
          "output_type": "execute_result",
          "data": {
            "text/plain": [
              "0.9863814684423905"
            ]
          },
          "metadata": {},
          "execution_count": 71
        }
      ]
    },
    {
      "cell_type": "markdown",
      "source": [
        "After performing predictions on the held-out test data, we took the probabilities and used argmax to get the predicted classes.\n",
        "\n",
        "From there, we used sklearns weighted F1-score with `y_true` and `y_pred` to achieve an F1-score of 98.6%, which is significantly better than the Random Forest F1-score of 95.2%."
      ],
      "metadata": {
        "id": "-cyI8S4cGk_4"
      }
    }
  ],
  "metadata": {
    "kernelspec": {
      "display_name": "Python 3",
      "language": "python",
      "name": "python3"
    },
    "language_info": {
      "codemirror_mode": {
        "name": "ipython",
        "version": 3
      },
      "file_extension": ".py",
      "mimetype": "text/x-python",
      "name": "python",
      "nbconvert_exporter": "python",
      "pygments_lexer": "ipython3",
      "version": "3.8.5"
    },
    "colab": {
      "name": "ML A2 - Sign Type Classification.ipynb",
      "provenance": [],
      "collapsed_sections": []
    },
    "accelerator": "GPU"
  },
  "nbformat": 4,
  "nbformat_minor": 0
}