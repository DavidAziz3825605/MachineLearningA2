{
 "cells": [
  {
   "cell_type": "markdown",
   "metadata": {},
   "source": [
    "# <div align = \"center\">COSC 2673/2793 | Machine Learning</div>\n",
    "<div align = \"center\"><font size=\"5\">Assignment 2</font></div>\n",
    "<div align = \"center\"><font size='4'>by David Aziz (s3825605) and Alistair Chitty (s3902003)</font></div>\n",
    "\n",
    "# Loading Dataset & Exploratory Data Analysis"
   ]
  },
  {
   "cell_type": "code",
   "execution_count": 1,
   "metadata": {},
   "outputs": [],
   "source": [
    "import zipfile\n",
    "import random\n",
    "import os\n",
    "import pandas as pd\n",
    "import numpy as np\n",
    "import matplotlib.pyplot as plt\n",
    "%matplotlib inline\n",
    "from PIL import Image"
   ]
  },
  {
   "cell_type": "code",
   "execution_count": 2,
   "metadata": {},
   "outputs": [],
   "source": [
    "# Unzipping Traffic Sign Dataset\n",
    "filename = \"trafficsigns_dataset.zip\"\n",
    "with zipfile.ZipFile(filename, 'r') as zip_ref:\n",
    "    zip_ref.extractall()"
   ]
  },
  {
   "cell_type": "code",
   "execution_count": 3,
   "metadata": {},
   "outputs": [],
   "source": [
    "# initializing dicts to store sign-shapes and sign-types\n",
    "data_dict = {}\n",
    "data_dict[\"sign_shapes\"] = list()\n",
    "data_dict[\"sign_types\"] = list()\n",
    "data_dict[\"filename\"] = list()\n",
    "\n",
    "# iterate through trafficsigns_dataset folder:\n",
    "for sign_shape in os.listdir(\"trafficsigns_dataset/\"):\n",
    "    folder = os.path.join(\"trafficsigns_dataset/\", sign_shape)\n",
    "    \n",
    "    # iterate only through sign-shape folders\n",
    "    if os.path.isdir(folder):\n",
    "        for sign_type in os.listdir(folder):\n",
    "            subfolder = os.path.join(folder, sign_type)\n",
    "            \n",
    "            # iterate only through sign-type subfolders\n",
    "            if os.path.isdir(subfolder):\n",
    "                for image in os.listdir(subfolder):  \n",
    "                    if image.endswith(\".png\"):\n",
    "                        data_dict[\"sign_shapes\"].append(sign_shape)\n",
    "                        data_dict[\"sign_types\"].append(sign_type)\n",
    "                        data_dict[\"filename\"].append(image)"
   ]
  },
  {
   "cell_type": "code",
   "execution_count": 4,
   "metadata": {},
   "outputs": [],
   "source": [
    "signs = pd.DataFrame.from_dict(data_dict)"
   ]
  },
  {
   "cell_type": "code",
   "execution_count": 5,
   "metadata": {},
   "outputs": [
    {
     "name": "stdout",
     "output_type": "stream",
     "text": [
      "<class 'pandas.core.frame.DataFrame'>\n",
      "RangeIndex: 3699 entries, 0 to 3698\n",
      "Data columns (total 3 columns):\n",
      " #   Column       Non-Null Count  Dtype \n",
      "---  ------       --------------  ----- \n",
      " 0   sign_shapes  3699 non-null   object\n",
      " 1   sign_types   3699 non-null   object\n",
      " 2   filename     3699 non-null   object\n",
      "dtypes: object(3)\n",
      "memory usage: 86.8+ KB\n"
     ]
    }
   ],
   "source": [
    "signs.info() # getting info on the signs dataframe"
   ]
  },
  {
   "cell_type": "code",
   "execution_count": 6,
   "metadata": {},
   "outputs": [
    {
     "data": {
      "text/html": [
       "<div>\n",
       "<style scoped>\n",
       "    .dataframe tbody tr th:only-of-type {\n",
       "        vertical-align: middle;\n",
       "    }\n",
       "\n",
       "    .dataframe tbody tr th {\n",
       "        vertical-align: top;\n",
       "    }\n",
       "\n",
       "    .dataframe thead th {\n",
       "        text-align: right;\n",
       "    }\n",
       "</style>\n",
       "<table border=\"1\" class=\"dataframe\">\n",
       "  <thead>\n",
       "    <tr style=\"text-align: right;\">\n",
       "      <th></th>\n",
       "      <th>sign_shapes</th>\n",
       "      <th>sign_types</th>\n",
       "      <th>filename</th>\n",
       "    </tr>\n",
       "  </thead>\n",
       "  <tbody>\n",
       "    <tr>\n",
       "      <th>0</th>\n",
       "      <td>diamond</td>\n",
       "      <td>rightofway</td>\n",
       "      <td>00032_00000.png</td>\n",
       "    </tr>\n",
       "    <tr>\n",
       "      <th>1</th>\n",
       "      <td>diamond</td>\n",
       "      <td>rightofway</td>\n",
       "      <td>00032_00001.png</td>\n",
       "    </tr>\n",
       "    <tr>\n",
       "      <th>2</th>\n",
       "      <td>diamond</td>\n",
       "      <td>rightofway</td>\n",
       "      <td>00032_00002.png</td>\n",
       "    </tr>\n",
       "    <tr>\n",
       "      <th>3</th>\n",
       "      <td>diamond</td>\n",
       "      <td>rightofway</td>\n",
       "      <td>00037_00000.png</td>\n",
       "    </tr>\n",
       "    <tr>\n",
       "      <th>4</th>\n",
       "      <td>diamond</td>\n",
       "      <td>rightofway</td>\n",
       "      <td>00037_00001.png</td>\n",
       "    </tr>\n",
       "  </tbody>\n",
       "</table>\n",
       "</div>"
      ],
      "text/plain": [
       "  sign_shapes  sign_types         filename\n",
       "0     diamond  rightofway  00032_00000.png\n",
       "1     diamond  rightofway  00032_00001.png\n",
       "2     diamond  rightofway  00032_00002.png\n",
       "3     diamond  rightofway  00037_00000.png\n",
       "4     diamond  rightofway  00037_00001.png"
      ]
     },
     "execution_count": 6,
     "metadata": {},
     "output_type": "execute_result"
    }
   ],
   "source": [
    "signs.head(5)"
   ]
  },
  {
   "cell_type": "markdown",
   "metadata": {},
   "source": [
    "In the below cells, we create histograms to visualize the frequency of the classes. We observe that there is a class imbalance, and we will need to account for this when we set up the evaluation framework for our developed models."
   ]
  },
  {
   "cell_type": "code",
   "execution_count": 7,
   "metadata": {
    "scrolled": true
   },
   "outputs": [
    {
     "data": {
      "image/png": "[encoded data removed]",
      "text/plain": [
       "<Figure size 1440x1296 with 2 Axes>"
      ]
     },
     "metadata": {
      "needs_background": "light"
     },
     "output_type": "display_data"
    }
   ],
   "source": [
    "# checking distribution of classes for sign-shapes and sign-types\n",
    "plt.figure(figsize = (20,18))\n",
    "\n",
    "for i,col in enumerate(signs.iloc[:,0:2].columns):\n",
    "    plt.subplot(4,3,i+1)\n",
    "    signs[col].value_counts().plot(kind='bar')\n",
    "    plt.title(col)\n",
    "    plt.xticks(rotation = 45)"
   ]
  },
  {
   "cell_type": "markdown",
   "metadata": {},
   "source": [
    "In the below cells, we load in the images from the dataset folder as 1D NumPy arrays. All images are the same size (28x28), so we expect each image array to have 784 features. The images are grayscale, so we only expect 1 channel as well, with the values ranging from 0 to 255."
   ]
  },
  {
   "cell_type": "code",
   "execution_count": 8,
   "metadata": {},
   "outputs": [],
   "source": [
    "images = [] # initialize list to store image arrays\n",
    "\n",
    "for index, row in signs.iterrows():\n",
    "    folder,subfolder,image = row[0], row[1], row[2]\n",
    "    img_path = os.path.join(\"trafficsigns_dataset/\", folder, subfolder, image)\n",
    "    img = np.asarray(Image.open(img_path)).flatten()\n",
    "    images.append(img)\n",
    "    \n",
    "images = np.row_stack(images) # convert list of arrays into 2d array"
   ]
  },
  {
   "cell_type": "code",
   "execution_count": 9,
   "metadata": {},
   "outputs": [
    {
     "name": "stdout",
     "output_type": "stream",
     "text": [
      "This dataset has 3699 images, and 784 features\n"
     ]
    }
   ],
   "source": [
    "print(f\"This dataset has {images.shape[0]} images, and {images.shape[1]} features\")"
   ]
  },
  {
   "cell_type": "markdown",
   "metadata": {},
   "source": [
    "The next step in EDA is to randomly sample a few images to visualize the information that we'll later feed into our classifers. To do this, we had to reshape the flattened image arrays into their original dimensions."
   ]
  },
  {
   "cell_type": "code",
   "execution_count": 10,
   "metadata": {},
   "outputs": [
    {
     "data": {
      "image/png": "[encoded data removed]",
      "text/plain": [
       "<Figure size 1440x720 with 8 Axes>"
      ]
     },
     "metadata": {
      "needs_background": "light"
     },
     "output_type": "display_data"
    }
   ],
   "source": [
    "random.seed(0) # using seed to ensure reproducibility of image sample\n",
    "plt.figure(figsize = (20,10))\n",
    "\n",
    "num_imgs = 8 # setting size of sample\n",
    "indices = random.sample(range(images.shape[1]),num_imgs)\n",
    "\n",
    "for i,j in enumerate(indices):\n",
    "    plt.subplot(2,4,i+1)\n",
    "    plt.title(f\"Sign-Shape: {signs.iloc[j,0]}, Sign-Type: {signs.iloc[j,1]}\")\n",
    "    plt.imshow(images[j].reshape(28,28), cmap = \"gray\")"
   ]
  },
  {
   "cell_type": "code",
   "execution_count": 12,
   "metadata": {},
   "outputs": [
    {
     "data": {
      "text/html": [
       "<div>\n",
       "<style scoped>\n",
       "    .dataframe tbody tr th:only-of-type {\n",
       "        vertical-align: middle;\n",
       "    }\n",
       "\n",
       "    .dataframe tbody tr th {\n",
       "        vertical-align: top;\n",
       "    }\n",
       "\n",
       "    .dataframe thead th {\n",
       "        text-align: right;\n",
       "    }\n",
       "</style>\n",
       "<table border=\"1\" class=\"dataframe\">\n",
       "  <thead>\n",
       "    <tr style=\"text-align: right;\">\n",
       "      <th></th>\n",
       "      <th>0</th>\n",
       "      <th>1</th>\n",
       "      <th>2</th>\n",
       "      <th>3</th>\n",
       "      <th>4</th>\n",
       "      <th>5</th>\n",
       "      <th>6</th>\n",
       "      <th>7</th>\n",
       "      <th>8</th>\n",
       "      <th>9</th>\n",
       "      <th>...</th>\n",
       "      <th>774</th>\n",
       "      <th>775</th>\n",
       "      <th>776</th>\n",
       "      <th>777</th>\n",
       "      <th>778</th>\n",
       "      <th>779</th>\n",
       "      <th>780</th>\n",
       "      <th>781</th>\n",
       "      <th>782</th>\n",
       "      <th>783</th>\n",
       "    </tr>\n",
       "  </thead>\n",
       "  <tbody>\n",
       "    <tr>\n",
       "      <th>count</th>\n",
       "      <td>3699.000000</td>\n",
       "      <td>3699.000000</td>\n",
       "      <td>3699.000000</td>\n",
       "      <td>3699.000000</td>\n",
       "      <td>3699.000000</td>\n",
       "      <td>3699.000000</td>\n",
       "      <td>3699.000000</td>\n",
       "      <td>3699.000000</td>\n",
       "      <td>3699.000000</td>\n",
       "      <td>3699.000000</td>\n",
       "      <td>...</td>\n",
       "      <td>3699.000000</td>\n",
       "      <td>3699.000000</td>\n",
       "      <td>3699.000000</td>\n",
       "      <td>3699.000000</td>\n",
       "      <td>3699.000000</td>\n",
       "      <td>3699.000000</td>\n",
       "      <td>3699.000000</td>\n",
       "      <td>3699.000000</td>\n",
       "      <td>3699.000000</td>\n",
       "      <td>3699.000000</td>\n",
       "    </tr>\n",
       "    <tr>\n",
       "      <th>mean</th>\n",
       "      <td>92.232225</td>\n",
       "      <td>92.712625</td>\n",
       "      <td>93.833469</td>\n",
       "      <td>93.676129</td>\n",
       "      <td>93.942687</td>\n",
       "      <td>94.065693</td>\n",
       "      <td>94.178967</td>\n",
       "      <td>94.504190</td>\n",
       "      <td>94.513923</td>\n",
       "      <td>94.978102</td>\n",
       "      <td>...</td>\n",
       "      <td>97.172209</td>\n",
       "      <td>97.173831</td>\n",
       "      <td>96.362530</td>\n",
       "      <td>95.297918</td>\n",
       "      <td>94.896999</td>\n",
       "      <td>94.149500</td>\n",
       "      <td>92.766153</td>\n",
       "      <td>90.021898</td>\n",
       "      <td>87.145174</td>\n",
       "      <td>86.069478</td>\n",
       "    </tr>\n",
       "    <tr>\n",
       "      <th>std</th>\n",
       "      <td>70.752777</td>\n",
       "      <td>71.652804</td>\n",
       "      <td>71.596326</td>\n",
       "      <td>71.431897</td>\n",
       "      <td>71.399424</td>\n",
       "      <td>71.235415</td>\n",
       "      <td>71.978231</td>\n",
       "      <td>72.163763</td>\n",
       "      <td>71.872867</td>\n",
       "      <td>71.936054</td>\n",
       "      <td>...</td>\n",
       "      <td>65.988030</td>\n",
       "      <td>66.955995</td>\n",
       "      <td>66.833096</td>\n",
       "      <td>67.025648</td>\n",
       "      <td>66.724743</td>\n",
       "      <td>66.934988</td>\n",
       "      <td>66.159849</td>\n",
       "      <td>65.192246</td>\n",
       "      <td>64.797119</td>\n",
       "      <td>64.946209</td>\n",
       "    </tr>\n",
       "    <tr>\n",
       "      <th>min</th>\n",
       "      <td>0.000000</td>\n",
       "      <td>0.000000</td>\n",
       "      <td>0.000000</td>\n",
       "      <td>0.000000</td>\n",
       "      <td>0.000000</td>\n",
       "      <td>0.000000</td>\n",
       "      <td>0.000000</td>\n",
       "      <td>0.000000</td>\n",
       "      <td>0.000000</td>\n",
       "      <td>0.000000</td>\n",
       "      <td>...</td>\n",
       "      <td>6.000000</td>\n",
       "      <td>7.000000</td>\n",
       "      <td>1.000000</td>\n",
       "      <td>3.000000</td>\n",
       "      <td>4.000000</td>\n",
       "      <td>4.000000</td>\n",
       "      <td>6.000000</td>\n",
       "      <td>0.000000</td>\n",
       "      <td>0.000000</td>\n",
       "      <td>0.000000</td>\n",
       "    </tr>\n",
       "    <tr>\n",
       "      <th>25%</th>\n",
       "      <td>40.000000</td>\n",
       "      <td>40.000000</td>\n",
       "      <td>41.000000</td>\n",
       "      <td>41.000000</td>\n",
       "      <td>41.000000</td>\n",
       "      <td>41.000000</td>\n",
       "      <td>41.000000</td>\n",
       "      <td>41.000000</td>\n",
       "      <td>40.000000</td>\n",
       "      <td>41.500000</td>\n",
       "      <td>...</td>\n",
       "      <td>47.000000</td>\n",
       "      <td>46.000000</td>\n",
       "      <td>45.000000</td>\n",
       "      <td>44.000000</td>\n",
       "      <td>44.000000</td>\n",
       "      <td>43.000000</td>\n",
       "      <td>44.000000</td>\n",
       "      <td>42.000000</td>\n",
       "      <td>40.000000</td>\n",
       "      <td>39.000000</td>\n",
       "    </tr>\n",
       "    <tr>\n",
       "      <th>50%</th>\n",
       "      <td>71.000000</td>\n",
       "      <td>70.000000</td>\n",
       "      <td>72.000000</td>\n",
       "      <td>72.000000</td>\n",
       "      <td>73.000000</td>\n",
       "      <td>73.000000</td>\n",
       "      <td>71.000000</td>\n",
       "      <td>71.000000</td>\n",
       "      <td>72.000000</td>\n",
       "      <td>72.000000</td>\n",
       "      <td>...</td>\n",
       "      <td>77.000000</td>\n",
       "      <td>76.000000</td>\n",
       "      <td>75.000000</td>\n",
       "      <td>73.000000</td>\n",
       "      <td>73.000000</td>\n",
       "      <td>72.000000</td>\n",
       "      <td>71.000000</td>\n",
       "      <td>69.000000</td>\n",
       "      <td>69.000000</td>\n",
       "      <td>67.000000</td>\n",
       "    </tr>\n",
       "    <tr>\n",
       "      <th>75%</th>\n",
       "      <td>127.000000</td>\n",
       "      <td>126.000000</td>\n",
       "      <td>127.000000</td>\n",
       "      <td>128.000000</td>\n",
       "      <td>128.000000</td>\n",
       "      <td>127.000000</td>\n",
       "      <td>128.500000</td>\n",
       "      <td>129.000000</td>\n",
       "      <td>130.000000</td>\n",
       "      <td>130.000000</td>\n",
       "      <td>...</td>\n",
       "      <td>132.000000</td>\n",
       "      <td>132.000000</td>\n",
       "      <td>130.000000</td>\n",
       "      <td>128.000000</td>\n",
       "      <td>128.000000</td>\n",
       "      <td>127.000000</td>\n",
       "      <td>123.000000</td>\n",
       "      <td>119.000000</td>\n",
       "      <td>113.000000</td>\n",
       "      <td>113.000000</td>\n",
       "    </tr>\n",
       "    <tr>\n",
       "      <th>max</th>\n",
       "      <td>255.000000</td>\n",
       "      <td>255.000000</td>\n",
       "      <td>255.000000</td>\n",
       "      <td>255.000000</td>\n",
       "      <td>255.000000</td>\n",
       "      <td>255.000000</td>\n",
       "      <td>255.000000</td>\n",
       "      <td>255.000000</td>\n",
       "      <td>255.000000</td>\n",
       "      <td>255.000000</td>\n",
       "      <td>...</td>\n",
       "      <td>255.000000</td>\n",
       "      <td>255.000000</td>\n",
       "      <td>255.000000</td>\n",
       "      <td>255.000000</td>\n",
       "      <td>255.000000</td>\n",
       "      <td>255.000000</td>\n",
       "      <td>255.000000</td>\n",
       "      <td>255.000000</td>\n",
       "      <td>255.000000</td>\n",
       "      <td>255.000000</td>\n",
       "    </tr>\n",
       "  </tbody>\n",
       "</table>\n",
       "<p>8 rows × 784 columns</p>\n",
       "</div>"
      ],
      "text/plain": [
       "               0            1            2            3            4    \\\n",
       "count  3699.000000  3699.000000  3699.000000  3699.000000  3699.000000   \n",
       "mean     92.232225    92.712625    93.833469    93.676129    93.942687   \n",
       "std      70.752777    71.652804    71.596326    71.431897    71.399424   \n",
       "min       0.000000     0.000000     0.000000     0.000000     0.000000   \n",
       "25%      40.000000    40.000000    41.000000    41.000000    41.000000   \n",
       "50%      71.000000    70.000000    72.000000    72.000000    73.000000   \n",
       "75%     127.000000   126.000000   127.000000   128.000000   128.000000   \n",
       "max     255.000000   255.000000   255.000000   255.000000   255.000000   \n",
       "\n",
       "               5            6            7            8            9    ...  \\\n",
       "count  3699.000000  3699.000000  3699.000000  3699.000000  3699.000000  ...   \n",
       "mean     94.065693    94.178967    94.504190    94.513923    94.978102  ...   \n",
       "std      71.235415    71.978231    72.163763    71.872867    71.936054  ...   \n",
       "min       0.000000     0.000000     0.000000     0.000000     0.000000  ...   \n",
       "25%      41.000000    41.000000    41.000000    40.000000    41.500000  ...   \n",
       "50%      73.000000    71.000000    71.000000    72.000000    72.000000  ...   \n",
       "75%     127.000000   128.500000   129.000000   130.000000   130.000000  ...   \n",
       "max     255.000000   255.000000   255.000000   255.000000   255.000000  ...   \n",
       "\n",
       "               774          775          776          777          778  \\\n",
       "count  3699.000000  3699.000000  3699.000000  3699.000000  3699.000000   \n",
       "mean     97.172209    97.173831    96.362530    95.297918    94.896999   \n",
       "std      65.988030    66.955995    66.833096    67.025648    66.724743   \n",
       "min       6.000000     7.000000     1.000000     3.000000     4.000000   \n",
       "25%      47.000000    46.000000    45.000000    44.000000    44.000000   \n",
       "50%      77.000000    76.000000    75.000000    73.000000    73.000000   \n",
       "75%     132.000000   132.000000   130.000000   128.000000   128.000000   \n",
       "max     255.000000   255.000000   255.000000   255.000000   255.000000   \n",
       "\n",
       "               779          780          781          782          783  \n",
       "count  3699.000000  3699.000000  3699.000000  3699.000000  3699.000000  \n",
       "mean     94.149500    92.766153    90.021898    87.145174    86.069478  \n",
       "std      66.934988    66.159849    65.192246    64.797119    64.946209  \n",
       "min       4.000000     6.000000     0.000000     0.000000     0.000000  \n",
       "25%      43.000000    44.000000    42.000000    40.000000    39.000000  \n",
       "50%      72.000000    71.000000    69.000000    69.000000    67.000000  \n",
       "75%     127.000000   123.000000   119.000000   113.000000   113.000000  \n",
       "max     255.000000   255.000000   255.000000   255.000000   255.000000  \n",
       "\n",
       "[8 rows x 784 columns]"
      ]
     },
     "execution_count": 12,
     "metadata": {},
     "output_type": "execute_result"
    }
   ],
   "source": [
    "pd.DataFrame(images).describe()"
   ]
  },
  {
   "cell_type": "markdown",
   "metadata": {},
   "source": [
    "In the above cell, we take the descriptive statistics of the images we loaded in. The min and max values for the pixels are within the range of 0 to 255 inclusive, confirming that we have loaded the data correctly, as well as highlighting the need for data normalization."
   ]
  },
  {
   "cell_type": "markdown",
   "metadata": {},
   "source": [
    "# Model Development"
   ]
  },
  {
   "cell_type": "code",
   "execution_count": null,
   "metadata": {},
   "outputs": [],
   "source": []
  }
 ],
 "metadata": {
  "kernelspec": {
   "display_name": "Python 3 (ipykernel)",
   "language": "python",
   "name": "python3"
  },
  "language_info": {
   "codemirror_mode": {
    "name": "ipython",
    "version": 3
   },
   "file_extension": ".py",
   "mimetype": "text/x-python",
   "name": "python",
   "nbconvert_exporter": "python",
   "pygments_lexer": "ipython3",
   "version": "3.7.13"
  }
 },
 "nbformat": 4,
 "nbformat_minor": 4
}
